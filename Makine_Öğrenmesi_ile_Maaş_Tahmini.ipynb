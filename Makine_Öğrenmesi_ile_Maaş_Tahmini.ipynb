{
  "nbformat": 4,
  "nbformat_minor": 0,
  "metadata": {
    "colab": {
      "provenance": [],
      "collapsed_sections": [
        "QqAqBGzdehcm",
        "60O2gPw4hJ0D"
      ],
      "authorship_tag": "ABX9TyNYXGc6tmAUYnJa0/rTHD0Q"
    },
    "kernelspec": {
      "name": "python3",
      "display_name": "Python 3"
    },
    "language_info": {
      "name": "python"
    }
  },
  "cells": [
    {
      "cell_type": "markdown",
      "source": [
        "**iş problemi:**\n",
        "\n",
        "Maaş bilgileri ve 1986 yılına ait kariyer istatistikleri paylaşılan beyzbol\n",
        "oyuncularının maaş tahminleri için bir makine öğrenmesi modeli geliştiriniz."
      ],
      "metadata": {
        "id": "Ue5heYMseWEd"
      }
    },
    {
      "cell_type": "markdown",
      "source": [
        "**Veri Seti Hikayesi:**\n",
        "\n",
        "Bu veri seti orijinal olarak Carnegie Mellon Üniversitesi'nde bulunan\n",
        "StatLib kütüphanesinden alınmıştır. Veri seti 1988 ASA Grafik Bölümü\n",
        "Poster Oturumu'nda kullanılan verilerin bir parçasıdır. Maaş verileri\n",
        "orijinal olarak Sports Illustrated, 20 Nisan 1987'den alınmıştır. 1986 ve\n",
        "kariyer istatistikleri, Collier Books, Macmillan Publishing Company,\n",
        "New York tarafından yayınlanan 1987 Beyzbol Ansiklopedisi\n",
        "Güncellemesinden elde edilmiştir."
      ],
      "metadata": {
        "id": "hDAR2Gmsedfi"
      }
    },
    {
      "cell_type": "markdown",
      "source": [
        "**Değişkenler:**\n",
        "\n",
        "**AtBat:** 1986-1987 sezonunda bir beyzbol sopası ile topa yapılan vuruş sayısı\n",
        "\n",
        "**Hits:** 1986-1987 sezonundaki isabet sayısı\n",
        "\n",
        "**HmRun:** 1986-1987 sezonundaki en değerli vuruş sayısı\n",
        "\n",
        "**Runs:** 1986-1987 sezonunda takımına kazandırdığı sayı\n",
        "\n",
        "**RBI:** Bir vurucunun vuruş yaptıgında koşu yaptırdığı oyuncu sayısı\n",
        "\n",
        "**Walks:** Karşı oyuncuya yaptırılan hata sayısı\n",
        "Years Oyuncunun major liginde oynama süresi (sene)\n",
        "\n",
        "**CAtBat:** Oyuncunun kariyeri boyunca topa vurma sayısı\n",
        "\n",
        "**CHits:** Oyuncunun kariyeri boyunca yaptığı isabetli vuruş sayısı\n",
        "\n",
        "**CHmRun:** Oyucunun kariyeri boyunca yaptığı en değerli sayısı\n",
        "\n",
        "**CRuns:** Oyuncunun kariyeri boyunca takımına kazandırdığı sayı\n",
        "\n",
        "**CRBI:** Oyuncunun kariyeri boyunca koşu yaptırdırdığı oyuncu sayısı\n",
        "\n",
        "**CWalks:** Oyuncun kariyeri boyunca karşı oyuncuya yaptırdığı hata sayısı\n",
        "\n",
        "**League:** Oyuncunun sezon sonuna kadar oynadığı ligi gösteren A ve N seviyelerine sahip bir faktör\n",
        "\n",
        "**Division:** 1986 sonunda oyuncunun oynadığı pozisyonu gösteren E ve W seviyelerine sahip bir faktör\n",
        "\n",
        "**PutOuts:** Oyun icinde takım arkadaşınla yardımlaşma\n",
        "\n",
        "**Assits:** 1986-1987 sezonunda oyuncunun yaptığı asist sayısı\n",
        "\n",
        "**Errors:** 1986-1987 sezonundaki oyuncunun hata sayısı\n",
        "\n",
        "**Salary:** Oyuncunun 1986-1987 sezonunda aldığı maaş(bin uzerinden)\n",
        "\n",
        "**NewLeague:** 1987 sezonunun başında oyuncunun ligini gösteren A ve N seviyelerine sahip bir faktör"
      ],
      "metadata": {
        "id": "BecXWnlQeoRP"
      }
    },
    {
      "cell_type": "markdown",
      "source": [
        "Gerekli Kütüphaneler ve Fonksiyonlar"
      ],
      "metadata": {
        "id": "QqAqBGzdehcm"
      }
    },
    {
      "cell_type": "code",
      "source": [
        "import numpy as np\n",
        "import warnings\n",
        "import pandas as pd\n",
        "import seaborn as sns\n",
        "import matplotlib.pyplot as plt\n",
        "from sklearn.metrics import mean_squared_error, mean_absolute_error\n",
        "from sklearn.preprocessing import StandardScaler, RobustScaler\n",
        "\n",
        "from sklearn.metrics import mean_squared_error\n",
        "from sklearn.model_selection import train_test_split, GridSearchCV, cross_validate, cross_val_score, validation_curve\n",
        "\n",
        "#from catboost import CatBoostRegressor\n",
        "from lightgbm import LGBMRegressor\n",
        "from sklearn.ensemble import RandomForestRegressor, GradientBoostingRegressor\n",
        "from sklearn.linear_model import LinearRegression, Ridge, Lasso, ElasticNet\n",
        "from sklearn.neighbors import KNeighborsRegressor\n",
        "from sklearn.svm import SVR\n",
        "from sklearn.tree import DecisionTreeRegressor\n",
        "from xgboost import XGBRegressor"
      ],
      "metadata": {
        "id": "aSCJWKUAegQw"
      },
      "execution_count": 5,
      "outputs": []
    },
    {
      "cell_type": "code",
      "execution_count": 2,
      "metadata": {
        "id": "T_wfUG9teHvj"
      },
      "outputs": [],
      "source": [
        "pd.set_option('display.max_columns', None)\n",
        "pd.set_option('display.width', 170)\n",
        "pd.set_option('display.max_rows', 20)\n",
        "pd.set_option('display.float_format', lambda x: '%.3f' % x)"
      ]
    },
    {
      "cell_type": "code",
      "source": [
        "#from pandas.core.common import SettingWithCopyWarning\n",
        "#from sklearn.exceptions import ConvergenceWarning"
      ],
      "metadata": {
        "id": "N6syP-ftgymO"
      },
      "execution_count": 9,
      "outputs": []
    },
    {
      "cell_type": "code",
      "source": [
        "#warnings.simplefilter(action='ignore', category=FutureWarning)\n",
        "#warnings.simplefilter(action=\"ignore\", category=ConvergenceWarning)\n",
        "#warnings.simplefilter(action=\"ignore\", category=SettingWithCopyWarning)"
      ],
      "metadata": {
        "id": "eERio-9Vg1YE"
      },
      "execution_count": 10,
      "outputs": []
    },
    {
      "cell_type": "markdown",
      "source": [
        "# 1. Genel Resim"
      ],
      "metadata": {
        "id": "60O2gPw4hJ0D"
      }
    },
    {
      "cell_type": "code",
      "source": [
        "df = pd.read_csv(\"/content/sample_data/hitters.csv\")"
      ],
      "metadata": {
        "id": "4UCMj3d1hajn"
      },
      "execution_count": 11,
      "outputs": []
    },
    {
      "cell_type": "code",
      "source": [
        "def check_df(dataframe, head=5):\n",
        "    print(\"##################### Shape #####################\")\n",
        "    print(dataframe.shape)\n",
        "\n",
        "    print(\"##################### Types #####################\")\n",
        "    print(dataframe.dtypes)\n",
        "\n",
        "    print(\"##################### Head #####################\")\n",
        "    print(dataframe.head(head))\n",
        "\n",
        "    print(\"##################### Tail #####################\")\n",
        "    print(dataframe.tail(head))\n",
        "\n",
        "    print(\"##################### NA #####################\")\n",
        "    print(dataframe.isnull().sum())\n",
        "\n",
        "    print(\"##################### Quantiles #####################\")\n",
        "    print(dataframe.quantile([0, 0.05, 0.50, 0.95, 0.99, 1]).T)"
      ],
      "metadata": {
        "id": "LuocOz2xhVB-"
      },
      "execution_count": 12,
      "outputs": []
    },
    {
      "cell_type": "code",
      "source": [
        "check_df(df)"
      ],
      "metadata": {
        "colab": {
          "base_uri": "https://localhost:8080/"
        },
        "id": "UZPGqTGShWkE",
        "outputId": "3627e9e4-c8f2-4498-aefe-937d2bd235fc"
      },
      "execution_count": 13,
      "outputs": [
        {
          "output_type": "stream",
          "name": "stdout",
          "text": [
            "##################### Shape #####################\n",
            "(322, 20)\n",
            "##################### Types #####################\n",
            "AtBat          int64\n",
            "Hits           int64\n",
            "HmRun          int64\n",
            "Runs           int64\n",
            "RBI            int64\n",
            "Walks          int64\n",
            "Years          int64\n",
            "CAtBat         int64\n",
            "CHits          int64\n",
            "CHmRun         int64\n",
            "CRuns          int64\n",
            "CRBI           int64\n",
            "CWalks         int64\n",
            "League        object\n",
            "Division      object\n",
            "PutOuts        int64\n",
            "Assists        int64\n",
            "Errors         int64\n",
            "Salary       float64\n",
            "NewLeague     object\n",
            "dtype: object\n",
            "##################### Head #####################\n",
            "   AtBat  Hits  HmRun  Runs  RBI  Walks  Years  CAtBat  CHits  CHmRun  CRuns  CRBI  CWalks League Division  PutOuts  Assists  Errors  Salary NewLeague\n",
            "0    293    66      1    30   29     14      1     293     66       1     30    29      14      A        E      446       33      20     NaN         A\n",
            "1    315    81      7    24   38     39     14    3449    835      69    321   414     375      N        W      632       43      10 475.000         N\n",
            "2    479   130     18    66   72     76      3    1624    457      63    224   266     263      A        W      880       82      14 480.000         A\n",
            "3    496   141     20    65   78     37     11    5628   1575     225    828   838     354      N        E      200       11       3 500.000         N\n",
            "4    321    87     10    39   42     30      2     396    101      12     48    46      33      N        E      805       40       4  91.500         N\n",
            "##################### Tail #####################\n",
            "     AtBat  Hits  HmRun  Runs  RBI  Walks  Years  CAtBat  CHits  CHmRun  CRuns  CRBI  CWalks League Division  PutOuts  Assists  Errors   Salary NewLeague\n",
            "317    497   127      7    65   48     37      5    2703    806      32    379   311     138      N        E      325        9       3  700.000         N\n",
            "318    492   136      5    76   50     94     12    5511   1511      39    897   451     875      A        E      313      381      20  875.000         A\n",
            "319    475   126      3    61   43     52      6    1700    433       7    217    93     146      A        W       37      113       7  385.000         A\n",
            "320    573   144      9    85   60     78      8    3198    857      97    470   420     332      A        E     1314      131      12  960.000         A\n",
            "321    631   170      9    77   44     31     11    4908   1457      30    775   357     249      A        W      408        4       3 1000.000         A\n",
            "##################### NA #####################\n",
            "AtBat         0\n",
            "Hits          0\n",
            "HmRun         0\n",
            "Runs          0\n",
            "RBI           0\n",
            "Walks         0\n",
            "Years         0\n",
            "CAtBat        0\n",
            "CHits         0\n",
            "CHmRun        0\n",
            "CRuns         0\n",
            "CRBI          0\n",
            "CWalks        0\n",
            "League        0\n",
            "Division      0\n",
            "PutOuts       0\n",
            "Assists       0\n",
            "Errors        0\n",
            "Salary       59\n",
            "NewLeague     0\n",
            "dtype: int64\n",
            "##################### Quantiles #####################\n",
            "         0.000   0.050    0.500    0.950    0.990     1.000\n",
            "AtBat   16.000 161.000  379.500  609.900  658.590   687.000\n",
            "Hits     1.000  39.000   96.000  174.000  210.790   238.000\n",
            "HmRun    0.000   0.000    8.000   28.950   33.000    40.000\n",
            "Runs     0.000  17.000   48.000   94.000  107.790   130.000\n",
            "RBI      0.000  14.000   44.000   96.000  112.370   121.000\n",
            "Walks    0.000  11.050   35.000   78.000   93.580   105.000\n",
            "Years    1.000   1.000    6.000   17.000   19.790    24.000\n",
            "CAtBat  19.000 216.500 1928.000 7125.600 8749.970 14053.000\n",
            "CHits    4.000  54.000  508.000 2017.150 2500.340  4256.000\n",
            "CHmRun   0.000   2.000   37.500  265.650  373.120   548.000\n",
            "CRuns    1.000  27.000  247.000 1032.300 1174.370  2165.000\n",
            "CRBI     0.000  22.050  220.500 1071.750 1310.850  1659.000\n",
            "CWalks   0.000  15.050  170.500  817.600 1139.140  1566.000\n",
            "PutOuts  0.000  33.200  212.000  910.650 1301.190  1378.000\n",
            "Assists  0.000   0.000   39.500  431.450  478.160   492.000\n",
            "Errors   0.000   0.000    6.000   20.000   25.790    32.000\n",
            "Salary  67.500  86.600  425.000 1346.000 2032.887  2460.000\n"
          ]
        }
      ]
    },
    {
      "cell_type": "code",
      "source": [
        "def grab_col_names(dataframe, cat_th=10, car_th=20):\n",
        "    \"\"\"\n",
        "\n",
        "    Veri setindeki kategorik, numerik ve kategorik fakat kardinal değişkenlerin isimlerini verir.\n",
        "    Not: Kategorik değişkenlerin içerisine numerik görünümlü kategorik değişkenler de dahildir.\n",
        "\n",
        "    Parameters\n",
        "    ------\n",
        "        dataframe: dataframe\n",
        "                Değişken isimleri alınmak istenilen dataframe\n",
        "        cat_th: int, optional\n",
        "                numerik fakat kategorik olan değişkenler için sınıf eşik değeri\n",
        "        car_th: int, optinal\n",
        "                kategorik fakat kardinal değişkenler için sınıf eşik değeri\n",
        "\n",
        "    Returns\n",
        "    ------\n",
        "        cat_cols: list\n",
        "                Kategorik değişken listesi\n",
        "        num_cols: list\n",
        "                Numerik değişken listesi\n",
        "        cat_but_car: list\n",
        "                Kategorik görünümlü kardinal değişken listesi\n",
        "\n",
        "    Examples\n",
        "    ------\n",
        "        import seaborn as sns\n",
        "        df = sns.load_dataset(\"iris\")\n",
        "        print(grab_col_names(df))\n",
        "\n",
        "\n",
        "    Notes\n",
        "    ------\n",
        "        cat_cols + num_cols + cat_but_car = toplam değişken sayısı\n",
        "        num_but_cat cat_cols'un içerisinde.\n",
        "        Return olan 3 liste toplamı toplam değişken sayısına eşittir: cat_cols + num_cols + cat_but_car = değişken sayısı\n",
        "\n",
        "    \"\"\"\n",
        "\n",
        "\n",
        "    # cat_cols, cat_but_car\n",
        "    cat_cols = [col for col in dataframe.columns if dataframe[col].dtypes == \"O\"]\n",
        "    num_but_cat = [col for col in dataframe.columns if dataframe[col].nunique() < cat_th and\n",
        "                   dataframe[col].dtypes != \"O\"]\n",
        "    cat_but_car = [col for col in dataframe.columns if dataframe[col].nunique() > car_th and\n",
        "                   dataframe[col].dtypes == \"O\"]\n",
        "    cat_cols = cat_cols + num_but_cat\n",
        "    cat_cols = [col for col in cat_cols if col not in cat_but_car]\n",
        "\n",
        "    # num_cols\n",
        "    num_cols = [col for col in dataframe.columns if dataframe[col].dtypes != \"O\"]\n",
        "    num_cols = [col for col in num_cols if col not in num_but_cat]\n",
        "\n",
        "    print(f\"Observations: {dataframe.shape[0]}\")\n",
        "    print(f\"Variables: {dataframe.shape[1]}\")\n",
        "    print(f'cat_cols: {len(cat_cols)}')\n",
        "    print(f'num_cols: {len(num_cols)}')\n",
        "    print(f'cat_but_car: {len(cat_but_car)}')\n",
        "    print(f'num_but_cat: {len(num_but_cat)}')\n",
        "    return cat_cols, num_cols, cat_but_car"
      ],
      "metadata": {
        "id": "BeRoOeXThn9a"
      },
      "execution_count": 14,
      "outputs": []
    },
    {
      "cell_type": "code",
      "source": [
        "cat_cols, num_cols, cat_but_car = grab_col_names(df)"
      ],
      "metadata": {
        "colab": {
          "base_uri": "https://localhost:8080/"
        },
        "id": "rUPblN2ahpf-",
        "outputId": "495a9f4d-d680-41c6-ffad-8418bb2e23f7"
      },
      "execution_count": 15,
      "outputs": [
        {
          "output_type": "stream",
          "name": "stdout",
          "text": [
            "Observations: 322\n",
            "Variables: 20\n",
            "cat_cols: 3\n",
            "num_cols: 17\n",
            "cat_but_car: 0\n",
            "num_but_cat: 0\n"
          ]
        }
      ]
    },
    {
      "cell_type": "markdown",
      "source": [
        "# 2. Kategorik Değişken Analizi (Analysis of Categorical Variables)"
      ],
      "metadata": {
        "id": "7jREkUjmhwyC"
      }
    },
    {
      "cell_type": "code",
      "source": [
        "def cat_summary(dataframe, col_name, plot=False):\n",
        "\n",
        "    print(pd.DataFrame({col_name: dataframe[col_name].value_counts(),\n",
        "                        \"Ratio\": 100 * dataframe[col_name].value_counts() / len(dataframe)}))\n",
        "    print(\"##########################################\")\n",
        "\n",
        "    if plot:\n",
        "        sns.countplot(x=dataframe[col_name], data=dataframe)\n",
        "        plt.show()\n",
        "\n",
        "for col in cat_cols:\n",
        "    cat_summary(df, col, plot=True)"
      ],
      "metadata": {
        "colab": {
          "base_uri": "https://localhost:8080/",
          "height": 1000
        },
        "id": "RjmfZPcyh0Bd",
        "outputId": "b8f5583c-5b9a-4951-deb6-ca0e91c3fb5a"
      },
      "execution_count": 16,
      "outputs": [
        {
          "output_type": "stream",
          "name": "stdout",
          "text": [
            "   League  Ratio\n",
            "A     175 54.348\n",
            "N     147 45.652\n",
            "##########################################\n"
          ]
        },
        {
          "output_type": "display_data",
          "data": {
            "text/plain": [
              "<Figure size 640x480 with 1 Axes>"
            ],
            "image/png": "[encoded data removed]"
          },
          "metadata": {}
        },
        {
          "output_type": "stream",
          "name": "stdout",
          "text": [
            "   Division  Ratio\n",
            "W       165 51.242\n",
            "E       157 48.758\n",
            "##########################################\n"
          ]
        },
        {
          "output_type": "display_data",
          "data": {
            "text/plain": [
              "<Figure size 640x480 with 1 Axes>"
            ],
            "image/png": "[encoded data removed]"
          },
          "metadata": {}
        },
        {
          "output_type": "stream",
          "name": "stdout",
          "text": [
            "   NewLeague  Ratio\n",
            "A        176 54.658\n",
            "N        146 45.342\n",
            "##########################################\n"
          ]
        },
        {
          "output_type": "display_data",
          "data": {
            "text/plain": [
              "<Figure size 640x480 with 1 Axes>"
            ],
            "image/png": "[encoded data removed]"
          },
          "metadata": {}
        }
      ]
    },
    {
      "cell_type": "markdown",
      "source": [
        "## 3. Sayısal Değişken Analizi (Analysis of Numerical Variables)"
      ],
      "metadata": {
        "id": "WeJbtWy0h70A"
      }
    },
    {
      "cell_type": "code",
      "source": [
        "def num_summary(dataframe, numerical_col, plot=False):\n",
        "\n",
        "    quantiles = [0.05, 0.10, 0.20, 0.30, 0.40, 0.50, 0.60, 0.70, 0.80, 0.90, 0.95, 0.99]\n",
        "\n",
        "    print(dataframe[numerical_col].describe(quantiles).T)\n",
        "\n",
        "    if plot:\n",
        "        dataframe[numerical_col].hist(bins=20)\n",
        "        plt.xlabel(numerical_col)\n",
        "        plt.title(numerical_col)\n",
        "        plt.show()\n",
        "\n",
        "for col in num_cols:\n",
        "    num_summary(df, col, plot=True)"
      ],
      "metadata": {
        "colab": {
          "base_uri": "https://localhost:8080/",
          "height": 1000
        },
        "id": "HlmT3n4Yh97H",
        "outputId": "1900e93b-fbe5-4266-f223-dd30b0f702b6"
      },
      "execution_count": 17,
      "outputs": [
        {
          "output_type": "stream",
          "name": "stdout",
          "text": [
            "count   322.000\n",
            "mean    380.929\n",
            "std     153.405\n",
            "min      16.000\n",
            "5%      161.000\n",
            "10%     194.100\n",
            "20%     221.800\n",
            "30%     281.300\n",
            "40%     321.800\n",
            "50%     379.500\n",
            "60%     430.200\n",
            "70%     490.000\n",
            "80%     535.600\n",
            "90%     584.900\n",
            "95%     609.900\n",
            "99%     658.590\n",
            "max     687.000\n",
            "Name: AtBat, dtype: float64\n"
          ]
        },
        {
          "output_type": "display_data",
          "data": {
            "text/plain": [
              "<Figure size 640x480 with 1 Axes>"
            ],
            "image/png": "[encoded data removed]"
          },
          "metadata": {}
        },
        {
          "output_type": "stream",
          "name": "stdout",
          "text": [
            "count   322.000\n",
            "mean    101.025\n",
            "std      46.455\n",
            "min       1.000\n",
            "5%       39.000\n",
            "10%      45.100\n",
            "20%      57.000\n",
            "30%      70.000\n",
            "40%      82.000\n",
            "50%      96.000\n",
            "60%     113.000\n",
            "70%     128.700\n",
            "80%     144.000\n",
            "90%     163.000\n",
            "95%     174.000\n",
            "99%     210.790\n",
            "max     238.000\n",
            "Name: Hits, dtype: float64\n"
          ]
        },
        {
          "output_type": "display_data",
          "data": {
            "text/plain": [
              "<Figure size 640x480 with 1 Axes>"
            ],
            "image/png": "[encoded data removed]"
          },
          "metadata": {}
        },
        {
          "output_type": "stream",
          "name": "stdout",
          "text": [
            "count   322.000\n",
            "mean     10.770\n",
            "std       8.709\n",
            "min       0.000\n",
            "5%        0.000\n",
            "10%       1.000\n",
            "20%       3.000\n",
            "30%       5.000\n",
            "40%       6.000\n",
            "50%       8.000\n",
            "60%      10.600\n",
            "70%      14.000\n",
            "80%      18.000\n",
            "90%      24.000\n",
            "95%      28.950\n",
            "99%      33.000\n",
            "max      40.000\n",
            "Name: HmRun, dtype: float64\n"
          ]
        },
        {
          "output_type": "display_data",
          "data": {
            "text/plain": [
              "<Figure size 640x480 with 1 Axes>"
            ],
            "image/png": "[encoded data removed]"
          },
          "metadata": {}
        },
        {
          "output_type": "stream",
          "name": "stdout",
          "text": [
            "count   322.000\n",
            "mean     50.910\n",
            "std      26.024\n",
            "min       0.000\n",
            "5%       17.000\n",
            "10%      20.100\n",
            "20%      27.000\n",
            "30%      33.000\n",
            "40%      41.000\n",
            "50%      48.000\n",
            "60%      55.600\n",
            "70%      66.000\n",
            "80%      75.800\n",
            "90%      89.000\n",
            "95%      94.000\n",
            "99%     107.790\n",
            "max     130.000\n",
            "Name: Runs, dtype: float64\n"
          ]
        },
        {
          "output_type": "display_data",
          "data": {
            "text/plain": [
              "<Figure size 640x480 with 1 Axes>"
            ],
            "image/png": "[encoded data removed]"
          },
          "metadata": {}
        },
        {
          "output_type": "stream",
          "name": "stdout",
          "text": [
            "count   322.000\n",
            "mean     48.028\n",
            "std      26.167\n",
            "min       0.000\n",
            "5%       14.000\n",
            "10%      19.000\n",
            "20%      26.000\n",
            "30%      30.000\n",
            "40%      36.400\n",
            "50%      44.000\n",
            "60%      49.000\n",
            "70%      58.000\n",
            "80%      73.000\n",
            "90%      86.000\n",
            "95%      96.000\n",
            "99%     112.370\n",
            "max     121.000\n",
            "Name: RBI, dtype: float64\n"
          ]
        },
        {
          "output_type": "display_data",
          "data": {
            "text/plain": [
              "<Figure size 640x480 with 1 Axes>"
            ],
            "image/png": "[encoded data removed]"
          },
          "metadata": {}
        },
        {
          "output_type": "stream",
          "name": "stdout",
          "text": [
            "count   322.000\n",
            "mean     38.742\n",
            "std      21.639\n",
            "min       0.000\n",
            "5%       11.050\n",
            "10%      15.000\n",
            "20%      20.000\n",
            "30%      24.000\n",
            "40%      30.000\n",
            "50%      35.000\n",
            "60%      40.000\n",
            "70%      48.700\n",
            "80%      59.000\n",
            "90%      69.900\n",
            "95%      78.000\n",
            "99%      93.580\n",
            "max     105.000\n",
            "Name: Walks, dtype: float64\n"
          ]
        },
        {
          "output_type": "display_data",
          "data": {
            "text/plain": [
              "<Figure size 640x480 with 1 Axes>"
            ],
            "image/png": "[encoded data removed]"
          },
          "metadata": {}
        },
        {
          "output_type": "stream",
          "name": "stdout",
          "text": [
            "count   322.000\n",
            "mean      7.444\n",
            "std       4.926\n",
            "min       1.000\n",
            "5%        1.000\n",
            "10%       2.000\n",
            "20%       3.000\n",
            "30%       4.000\n",
            "40%       5.000\n",
            "50%       6.000\n",
            "60%       7.600\n",
            "70%      10.000\n",
            "80%      12.000\n",
            "90%      15.000\n",
            "95%      17.000\n",
            "99%      19.790\n",
            "max      24.000\n",
            "Name: Years, dtype: float64\n"
          ]
        },
        {
          "output_type": "display_data",
          "data": {
            "text/plain": [
              "<Figure size 640x480 with 1 Axes>"
            ],
            "image/png": "[encoded data removed]"
          },
          "metadata": {}
        },
        {
          "output_type": "stream",
          "name": "stdout",
          "text": [
            "count     322.000\n",
            "mean     2648.683\n",
            "std      2324.206\n",
            "min        19.000\n",
            "5%        216.500\n",
            "10%       342.200\n",
            "20%       667.600\n",
            "30%       963.400\n",
            "40%      1402.200\n",
            "50%      1928.000\n",
            "60%      2654.000\n",
            "70%      3365.000\n",
            "80%      4483.000\n",
            "90%      6123.400\n",
            "95%      7125.600\n",
            "99%      8749.970\n",
            "max     14053.000\n",
            "Name: CAtBat, dtype: float64\n"
          ]
        },
        {
          "output_type": "display_data",
          "data": {
            "text/plain": [
              "<Figure size 640x480 with 1 Axes>"
            ],
            "image/png": "[encoded data removed]"
          },
          "metadata": {}
        },
        {
          "output_type": "stream",
          "name": "stdout",
          "text": [
            "count    322.000\n",
            "mean     717.571\n",
            "std      654.473\n",
            "min        4.000\n",
            "5%        54.000\n",
            "10%       86.000\n",
            "20%      164.600\n",
            "30%      238.000\n",
            "40%      355.800\n",
            "50%      508.000\n",
            "60%      708.200\n",
            "70%      911.100\n",
            "80%     1229.200\n",
            "90%     1659.600\n",
            "95%     2017.150\n",
            "99%     2500.340\n",
            "max     4256.000\n",
            "Name: CHits, dtype: float64\n"
          ]
        },
        {
          "output_type": "display_data",
          "data": {
            "text/plain": [
              "<Figure size 640x480 with 1 Axes>"
            ],
            "image/png": "[encoded data removed]"
          },
          "metadata": {}
        },
        {
          "output_type": "stream",
          "name": "stdout",
          "text": [
            "count   322.000\n",
            "mean     69.491\n",
            "std      86.266\n",
            "min       0.000\n",
            "5%        2.000\n",
            "10%       4.000\n",
            "20%      10.200\n",
            "30%      16.300\n",
            "40%      27.400\n",
            "50%      37.500\n",
            "60%      51.200\n",
            "70%      72.400\n",
            "80%     103.800\n",
            "90%     194.900\n",
            "95%     265.650\n",
            "99%     373.120\n",
            "max     548.000\n",
            "Name: CHmRun, dtype: float64\n"
          ]
        },
        {
          "output_type": "display_data",
          "data": {
            "text/plain": [
              "<Figure size 640x480 with 1 Axes>"
            ],
            "image/png": "[encoded data removed]"
          },
          "metadata": {}
        },
        {
          "output_type": "stream",
          "name": "stdout",
          "text": [
            "count    322.000\n",
            "mean     358.795\n",
            "std      334.106\n",
            "min        1.000\n",
            "5%        27.000\n",
            "10%       38.100\n",
            "20%       80.400\n",
            "30%      117.300\n",
            "40%      181.000\n",
            "50%      247.000\n",
            "60%      333.000\n",
            "70%      443.400\n",
            "80%      627.200\n",
            "90%      895.700\n",
            "95%     1032.300\n",
            "99%     1174.370\n",
            "max     2165.000\n",
            "Name: CRuns, dtype: float64\n"
          ]
        },
        {
          "output_type": "display_data",
          "data": {
            "text/plain": [
              "<Figure size 640x480 with 1 Axes>"
            ],
            "image/png": "[encoded data removed]"
          },
          "metadata": {}
        },
        {
          "output_type": "stream",
          "name": "stdout",
          "text": [
            "count    322.000\n",
            "mean     330.118\n",
            "std      333.220\n",
            "min        0.000\n",
            "5%        22.050\n",
            "10%       34.100\n",
            "20%       70.200\n",
            "30%      106.300\n",
            "40%      149.000\n",
            "50%      220.500\n",
            "60%      303.600\n",
            "70%      379.100\n",
            "80%      496.200\n",
            "90%      861.600\n",
            "95%     1071.750\n",
            "99%     1310.850\n",
            "max     1659.000\n",
            "Name: CRBI, dtype: float64\n"
          ]
        },
        {
          "output_type": "display_data",
          "data": {
            "text/plain": [
              "<Figure size 640x480 with 1 Axes>"
            ],
            "image/png": "[encoded data removed]"
          },
          "metadata": {}
        },
        {
          "output_type": "stream",
          "name": "stdout",
          "text": [
            "count    322.000\n",
            "mean     260.239\n",
            "std      267.058\n",
            "min        0.000\n",
            "5%        15.050\n",
            "10%       30.100\n",
            "20%       55.000\n",
            "30%       82.000\n",
            "40%      117.400\n",
            "50%      170.500\n",
            "60%      226.600\n",
            "70%      300.700\n",
            "80%      421.000\n",
            "90%      643.900\n",
            "95%      817.600\n",
            "99%     1139.140\n",
            "max     1566.000\n",
            "Name: CWalks, dtype: float64\n"
          ]
        },
        {
          "output_type": "display_data",
          "data": {
            "text/plain": [
              "<Figure size 640x480 with 1 Axes>"
            ],
            "image/png": "[encoded data removed]"
          },
          "metadata": {}
        },
        {
          "output_type": "stream",
          "name": "stdout",
          "text": [
            "count    322.000\n",
            "mean     288.938\n",
            "std      280.705\n",
            "min        0.000\n",
            "5%        33.200\n",
            "10%       62.200\n",
            "20%       99.600\n",
            "30%      132.000\n",
            "40%      167.000\n",
            "50%      212.000\n",
            "60%      257.400\n",
            "70%      303.000\n",
            "80%      365.800\n",
            "90%      685.600\n",
            "95%      910.650\n",
            "99%     1301.190\n",
            "max     1378.000\n",
            "Name: PutOuts, dtype: float64\n"
          ]
        },
        {
          "output_type": "display_data",
          "data": {
            "text/plain": [
              "<Figure size 640x480 with 1 Axes>"
            ],
            "image/png": "[encoded data removed]"
          },
          "metadata": {}
        },
        {
          "output_type": "stream",
          "name": "stdout",
          "text": [
            "count   322.000\n",
            "mean    106.913\n",
            "std     136.855\n",
            "min       0.000\n",
            "5%        0.000\n",
            "10%       2.000\n",
            "20%       5.200\n",
            "30%       9.000\n",
            "40%      15.400\n",
            "50%      39.500\n",
            "60%      76.800\n",
            "70%     134.800\n",
            "80%     210.800\n",
            "90%     353.300\n",
            "95%     431.450\n",
            "99%     478.160\n",
            "max     492.000\n",
            "Name: Assists, dtype: float64\n"
          ]
        },
        {
          "output_type": "display_data",
          "data": {
            "text/plain": [
              "<Figure size 640x480 with 1 Axes>"
            ],
            "image/png": "[encoded data removed]"
          },
          "metadata": {}
        },
        {
          "output_type": "stream",
          "name": "stdout",
          "text": [
            "count   322.000\n",
            "mean      8.040\n",
            "std       6.368\n",
            "min       0.000\n",
            "5%        0.000\n",
            "10%       1.000\n",
            "20%       3.000\n",
            "30%       4.000\n",
            "40%       5.000\n",
            "50%       6.000\n",
            "60%       8.000\n",
            "70%      10.000\n",
            "80%      13.000\n",
            "90%      17.000\n",
            "95%      20.000\n",
            "99%      25.790\n",
            "max      32.000\n",
            "Name: Errors, dtype: float64\n"
          ]
        },
        {
          "output_type": "display_data",
          "data": {
            "text/plain": [
              "<Figure size 640x480 with 1 Axes>"
            ],
            "image/png": "[encoded data removed]"
          },
          "metadata": {}
        },
        {
          "output_type": "stream",
          "name": "stdout",
          "text": [
            "count    263.000\n",
            "mean     535.926\n",
            "std      451.119\n",
            "min       67.500\n",
            "5%        86.600\n",
            "10%      100.000\n",
            "20%      155.000\n",
            "30%      221.000\n",
            "40%      300.000\n",
            "50%      425.000\n",
            "60%      538.000\n",
            "70%      700.000\n",
            "80%      809.000\n",
            "90%     1048.667\n",
            "95%     1346.000\n",
            "99%     2032.887\n",
            "max     2460.000\n",
            "Name: Salary, dtype: float64\n"
          ]
        },
        {
          "output_type": "display_data",
          "data": {
            "text/plain": [
              "<Figure size 640x480 with 1 Axes>"
            ],
            "image/png": "[encoded data removed]"
          },
          "metadata": {}
        }
      ]
    },
    {
      "cell_type": "markdown",
      "source": [
        "## 4. Hedef Değişken Analizi (Analysis of Target Variable)\n"
      ],
      "metadata": {
        "id": "KHAZt0U8iKq-"
      }
    },
    {
      "cell_type": "code",
      "source": [
        "def target_summary_with_cat(dataframe, target, categorical_col):\n",
        "\n",
        "    print(pd.DataFrame({\"TARGET_MEAN\": dataframe.groupby(categorical_col)[target].mean()}), end=\"\\n\\n\\n\")\n",
        "\n",
        "for col in cat_cols:\n",
        "    target_summary_with_cat(df, \"Salary\", col)"
      ],
      "metadata": {
        "colab": {
          "base_uri": "https://localhost:8080/"
        },
        "id": "ln8-dfNSiPDS",
        "outputId": "55d7ba90-83e0-4465-a37b-a21d42935335"
      },
      "execution_count": 18,
      "outputs": [
        {
          "output_type": "stream",
          "name": "stdout",
          "text": [
            "        TARGET_MEAN\n",
            "League             \n",
            "A           542.000\n",
            "N           529.118\n",
            "\n",
            "\n",
            "          TARGET_MEAN\n",
            "Division             \n",
            "E             624.271\n",
            "W             450.877\n",
            "\n",
            "\n",
            "           TARGET_MEAN\n",
            "NewLeague             \n",
            "A              537.113\n",
            "N              534.554\n",
            "\n",
            "\n"
          ]
        }
      ]
    },
    {
      "cell_type": "markdown",
      "source": [
        "## 5. Korelasyon Analizi (Analysis of Correlation)"
      ],
      "metadata": {
        "id": "3GKOxKpQiVtO"
      }
    },
    {
      "cell_type": "code",
      "source": [
        "def high_correlated_cols(dataframe, plot=False, corr_th=0.70):\n",
        "    corr = dataframe.corr()\n",
        "    cor_matrix = corr.abs()\n",
        "    upper_triangle_matrix = cor_matrix.where(np.triu(np.ones(cor_matrix.shape), k=1).astype(bool))  # Use bool directly\n",
        "    drop_list = [col for col in upper_triangle_matrix.columns if any(upper_triangle_matrix[col] > corr_th)]\n",
        "    if plot:\n",
        "        import seaborn as sns\n",
        "        import matplotlib.pyplot as plt\n",
        "        sns.set(rc={'figure.figsize': (15, 15)})\n",
        "        sns.heatmap(corr, cmap=\"RdBu\")\n",
        "        plt.show()\n",
        "    return drop_list"
      ],
      "metadata": {
        "id": "BgIW1_P-iYze"
      },
      "execution_count": 21,
      "outputs": []
    },
    {
      "cell_type": "code",
      "source": [
        "high_correlated_cols(df, plot=True)"
      ],
      "metadata": {
        "colab": {
          "base_uri": "https://localhost:8080/",
          "height": 1000
        },
        "id": "Bn73DQbHidDK",
        "outputId": "d51c9e56-7b21-4050-fc2b-e12624197e6f"
      },
      "execution_count": 22,
      "outputs": [
        {
          "output_type": "display_data",
          "data": {
            "text/plain": [
              "<Figure size 1500x1500 with 2 Axes>"
            ],
            "image/png": "[encoded data removed]"
          },
          "metadata": {}
        },
        {
          "output_type": "execute_result",
          "data": {
            "text/plain": [
              "['Hits',\n",
              " 'Runs',\n",
              " 'RBI',\n",
              " 'Walks',\n",
              " 'CAtBat',\n",
              " 'CHits',\n",
              " 'CHmRun',\n",
              " 'CRuns',\n",
              " 'CRBI',\n",
              " 'CWalks',\n",
              " 'Errors']"
            ]
          },
          "metadata": {},
          "execution_count": 22
        }
      ]
    },
    {
      "cell_type": "markdown",
      "source": [
        "## GELİŞMİŞ FONKSİYONEL KEŞİFÇİ VERİ ANALİZİ (ADVANCED FUNCTIONAL EDA)"
      ],
      "metadata": {
        "id": "Lf5jpDQri3ou"
      }
    },
    {
      "cell_type": "markdown",
      "source": [
        "### 1. Outliers (Aykırı Değerler)"
      ],
      "metadata": {
        "id": "1B-IpaWUni-l"
      }
    },
    {
      "cell_type": "code",
      "source": [
        "def outlier_thresholds(dataframe, col_name, q1=0.25, q3=0.75):\n",
        "    quartile1 = dataframe[col_name].quantile(q1)\n",
        "    quartile3 = dataframe[col_name].quantile(q3)\n",
        "    interquantile_range = quartile3 - quartile1\n",
        "    up_limit = quartile3 + 1.5 * interquantile_range\n",
        "    low_limit = quartile1 - 1.5 * interquantile_range\n",
        "    return low_limit, up_limit"
      ],
      "metadata": {
        "id": "Hwnz6euZoGvm"
      },
      "execution_count": 23,
      "outputs": []
    },
    {
      "cell_type": "code",
      "source": [
        "def check_outlier(dataframe, col_name):\n",
        "    low_limit, up_limit = outlier_thresholds(dataframe, col_name)\n",
        "    if dataframe[(dataframe[col_name] > up_limit) | (dataframe[col_name] < low_limit)].any(axis=None):\n",
        "        return True\n",
        "    else:\n",
        "        return False"
      ],
      "metadata": {
        "id": "dHiSs73RpBpb"
      },
      "execution_count": 24,
      "outputs": []
    },
    {
      "cell_type": "code",
      "source": [
        "def replace_with_thresholds(dataframe, variable):\n",
        "    low_limit, up_limit = outlier_thresholds(dataframe, variable)\n",
        "    dataframe.loc[(dataframe[variable] < low_limit), variable] = low_limit\n",
        "    dataframe.loc[(dataframe[variable] > up_limit), variable] = up_limit"
      ],
      "metadata": {
        "id": "8Huitu17pGHb"
      },
      "execution_count": 25,
      "outputs": []
    },
    {
      "cell_type": "code",
      "source": [
        "for col in num_cols:\n",
        "    print(col, check_outlier(df, col))"
      ],
      "metadata": {
        "colab": {
          "base_uri": "https://localhost:8080/"
        },
        "id": "GrcvV53vpIG-",
        "outputId": "6479135d-8299-468d-9a55-4f5bbc946e89"
      },
      "execution_count": 26,
      "outputs": [
        {
          "output_type": "stream",
          "name": "stdout",
          "text": [
            "AtBat False\n",
            "Hits False\n",
            "HmRun True\n",
            "Runs True\n",
            "RBI True\n",
            "Walks True\n",
            "Years True\n",
            "CAtBat True\n",
            "CHits True\n",
            "CHmRun True\n",
            "CRuns True\n",
            "CRBI True\n",
            "CWalks True\n",
            "PutOuts True\n",
            "Assists True\n",
            "Errors True\n",
            "Salary True\n"
          ]
        }
      ]
    },
    {
      "cell_type": "code",
      "source": [
        "for col in num_cols:\n",
        "    if check_outlier(df, col):\n",
        "        replace_with_thresholds(df, col)"
      ],
      "metadata": {
        "id": "-gSJBeMHpLlB"
      },
      "execution_count": 27,
      "outputs": []
    },
    {
      "cell_type": "markdown",
      "source": [
        "### 2. Missing Values (Eksik Değerler)"
      ],
      "metadata": {
        "id": "JW4kC_e3npXC"
      }
    },
    {
      "cell_type": "code",
      "source": [
        "def missing_values_table(dataframe, na_name=False):\n",
        "    na_columns = [col for col in dataframe.columns if dataframe[col].isnull().sum() > 0]\n",
        "    n_miss = dataframe[na_columns].isnull().sum().sort_values(ascending=False)\n",
        "    ratio = (dataframe[na_columns].isnull().sum() / dataframe.shape[0] * 100).sort_values(ascending=False)\n",
        "    missing_df = pd.concat([n_miss, np.round(ratio, 2)], axis=1, keys=['n_miss', 'ratio'])\n",
        "    print(missing_df, end=\"\\n\")\n",
        "    if na_name:\n",
        "        return na_columns"
      ],
      "metadata": {
        "id": "ZA2S-4oNoGHk"
      },
      "execution_count": 28,
      "outputs": []
    },
    {
      "cell_type": "code",
      "source": [
        "missing_values_table(df)"
      ],
      "metadata": {
        "colab": {
          "base_uri": "https://localhost:8080/"
        },
        "id": "Yh2daXnOpTS_",
        "outputId": "f16656b2-df00-4d6b-8e55-f2a56f80e388"
      },
      "execution_count": 29,
      "outputs": [
        {
          "output_type": "stream",
          "name": "stdout",
          "text": [
            "        n_miss  ratio\n",
            "Salary      59 18.320\n"
          ]
        }
      ]
    },
    {
      "cell_type": "code",
      "source": [
        "df.dropna(inplace=True)"
      ],
      "metadata": {
        "id": "2mMUGkuOpcG4"
      },
      "execution_count": 30,
      "outputs": []
    },
    {
      "cell_type": "markdown",
      "source": [
        "### 3. Feature Extraction (Özellik Çıkarımı)"
      ],
      "metadata": {
        "id": "s4bJTYvyoHS3"
      }
    },
    {
      "cell_type": "code",
      "source": [
        "new_num_cols=[col for col in num_cols if col!=\"Salary\"]"
      ],
      "metadata": {
        "id": "lBQ_npGNoMj2"
      },
      "execution_count": 31,
      "outputs": []
    },
    {
      "cell_type": "code",
      "source": [
        "df[new_num_cols]=df[new_num_cols]+0.0000000001"
      ],
      "metadata": {
        "id": "dU_kHB8Cpnsf"
      },
      "execution_count": 32,
      "outputs": []
    },
    {
      "cell_type": "code",
      "source": [
        "df['NEW_Hits'] = df['Hits'] / df['CHits'] + df['Hits']\n",
        "df['NEW_RBI'] = df['RBI'] / df['CRBI']\n",
        "df['NEW_Walks'] = df['Walks'] / df['CWalks']\n",
        "df['NEW_PutOuts'] = df['PutOuts'] * df['Years']\n",
        "df[\"Hits_Success\"] = (df[\"Hits\"] / df[\"AtBat\"]) * 100\n",
        "df[\"NEW_CRBI*CATBAT\"] = df['CRBI'] * df['CAtBat']\n",
        "df[\"NEW_RBI\"] = df[\"RBI\"] / df[\"CRBI\"]\n",
        "df[\"NEW_Chits\"] = df[\"CHits\"] / df[\"Years\"]\n",
        "df[\"NEW_CHmRun\"] = df[\"CHmRun\"] * df[\"Years\"]\n",
        "df[\"NEW_CRuns\"] = df[\"CRuns\"] / df[\"Years\"]\n",
        "df[\"NEW_Chits\"] = df[\"CHits\"] * df[\"Years\"]\n",
        "df[\"NEW_RW\"] = df[\"RBI\"] * df[\"Walks\"]\n",
        "df[\"NEW_RBWALK\"] = df[\"RBI\"] / df[\"Walks\"]\n",
        "df[\"NEW_CH_CB\"] = df[\"CHits\"] / df[\"CAtBat\"]\n",
        "df[\"NEW_CHm_CAT\"] = df[\"CHmRun\"] / df[\"CAtBat\"]\n",
        "df['NEW_Diff_Atbat'] = df['AtBat'] - (df['CAtBat'] / df['Years'])\n",
        "df['NEW_Diff_Hits'] = df['Hits'] - (df['CHits'] / df['Years'])\n",
        "df['NEW_Diff_HmRun'] = df['HmRun'] - (df['CHmRun'] / df['Years'])\n",
        "df['NEW_Diff_Runs'] = df['Runs'] - (df['CRuns'] / df['Years'])\n",
        "df['NEW_Diff_RBI'] = df['RBI'] - (df['CRBI'] / df['Years'])\n",
        "df['NEW_Diff_Walks'] = df['Walks'] - (df['CWalks'] / df['Years'])"
      ],
      "metadata": {
        "id": "3wb9e-WfppyI"
      },
      "execution_count": 33,
      "outputs": []
    },
    {
      "cell_type": "code",
      "source": [
        "df.head()"
      ],
      "metadata": {
        "colab": {
          "base_uri": "https://localhost:8080/",
          "height": 226
        },
        "id": "LemElGPRptr5",
        "outputId": "83847031-934d-403d-8e71-6b09deaa3b8d"
      },
      "execution_count": 34,
      "outputs": [
        {
          "output_type": "execute_result",
          "data": {
            "text/plain": [
              "    AtBat    Hits  HmRun   Runs    RBI  Walks  Years   CAtBat    CHits  CHmRun   CRuns    CRBI  CWalks League Division  PutOuts  Assists  Errors  Salary NewLeague  \\\n",
              "1 315.000  81.000  7.000 24.000 38.000 39.000 14.000 3449.000  835.000  69.000 321.000 414.000 375.000      N        W  632.000   43.000  10.000 475.000         N   \n",
              "2 479.000 130.000 18.000 66.000 72.000 76.000  3.000 1624.000  457.000  63.000 224.000 266.000 263.000      A        W  648.625   82.000  14.000 480.000         A   \n",
              "3 496.000 141.000 20.000 65.000 78.000 37.000 11.000 5628.000 1575.000 204.000 828.000 838.000 354.000      N        E  200.000   11.000   3.000 500.000         N   \n",
              "4 321.000  87.000 10.000 39.000 42.000 30.000  2.000  396.000  101.000  12.000  48.000  46.000  33.000      N        E  648.625   40.000   4.000  91.500         N   \n",
              "5 594.000 169.000  4.000 74.000 51.000 35.000 11.000 4408.000 1133.000  19.000 501.000 336.000 194.000      A        W  282.000  404.500  23.000 750.000         A   \n",
              "\n",
              "   NEW_Hits  NEW_RBI  NEW_Walks  NEW_PutOuts  Hits_Success  NEW_CRBI*CATBAT  NEW_Chits  NEW_CHmRun  NEW_CRuns   NEW_RW  NEW_RBWALK  NEW_CH_CB  NEW_CHm_CAT  \\\n",
              "1    81.097    0.092      0.104     8848.000        25.714      1427886.000  11690.000     966.000     22.929 1482.000       0.974      0.242        0.020   \n",
              "2   130.284    0.271      0.289     1945.875        27.140       431984.000   1371.000     189.000     74.667 5472.000       0.947      0.281        0.039   \n",
              "3   141.090    0.093      0.105     2200.000        28.427      4716264.000  17325.000    2244.000     75.273 2886.000       2.108      0.280        0.036   \n",
              "4    87.861    0.913      0.909     1297.250        27.103        18216.000    202.000      24.000     24.000 1260.000       1.400      0.255        0.030   \n",
              "5   169.149    0.152      0.180     3102.000        28.451      1481088.000  12463.000     209.000     45.545 1785.000       1.457      0.257        0.004   \n",
              "\n",
              "   NEW_Diff_Atbat  NEW_Diff_Hits  NEW_Diff_HmRun  NEW_Diff_Runs  NEW_Diff_RBI  NEW_Diff_Walks  \n",
              "1          68.643         21.357           2.071          1.071         8.429          12.214  \n",
              "2         -62.333        -22.333          -3.000         -8.667       -16.667         -11.667  \n",
              "3         -15.636         -2.182           1.455        -10.273         1.818           4.818  \n",
              "4         123.000         36.500           4.000         15.000        19.000          13.500  \n",
              "5         193.273         66.000           2.273         28.455        20.455          17.364  "
            ],
            "text/html": [
              "\n",
              "  <div id=\"df-86db7c4a-baaf-4d12-87d1-42fadd0cd111\" class=\"colab-df-container\">\n",
              "    <div>\n",
              "<style scoped>\n",
              "    .dataframe tbody tr th:only-of-type {\n",
              "        vertical-align: middle;\n",
              "    }\n",
              "\n",
              "    .dataframe tbody tr th {\n",
              "        vertical-align: top;\n",
              "    }\n",
              "\n",
              "    .dataframe thead th {\n",
              "        text-align: right;\n",
              "    }\n",
              "</style>\n",
              "<table border=\"1\" class=\"dataframe\">\n",
              "  <thead>\n",
              "    <tr style=\"text-align: right;\">\n",
              "      <th></th>\n",
              "      <th>AtBat</th>\n",
              "      <th>Hits</th>\n",
              "      <th>HmRun</th>\n",
              "      <th>Runs</th>\n",
              "      <th>RBI</th>\n",
              "      <th>Walks</th>\n",
              "      <th>Years</th>\n",
              "      <th>CAtBat</th>\n",
              "      <th>CHits</th>\n",
              "      <th>CHmRun</th>\n",
              "      <th>CRuns</th>\n",
              "      <th>CRBI</th>\n",
              "      <th>CWalks</th>\n",
              "      <th>League</th>\n",
              "      <th>Division</th>\n",
              "      <th>PutOuts</th>\n",
              "      <th>Assists</th>\n",
              "      <th>Errors</th>\n",
              "      <th>Salary</th>\n",
              "      <th>NewLeague</th>\n",
              "      <th>NEW_Hits</th>\n",
              "      <th>NEW_RBI</th>\n",
              "      <th>NEW_Walks</th>\n",
              "      <th>NEW_PutOuts</th>\n",
              "      <th>Hits_Success</th>\n",
              "      <th>NEW_CRBI*CATBAT</th>\n",
              "      <th>NEW_Chits</th>\n",
              "      <th>NEW_CHmRun</th>\n",
              "      <th>NEW_CRuns</th>\n",
              "      <th>NEW_RW</th>\n",
              "      <th>NEW_RBWALK</th>\n",
              "      <th>NEW_CH_CB</th>\n",
              "      <th>NEW_CHm_CAT</th>\n",
              "      <th>NEW_Diff_Atbat</th>\n",
              "      <th>NEW_Diff_Hits</th>\n",
              "      <th>NEW_Diff_HmRun</th>\n",
              "      <th>NEW_Diff_Runs</th>\n",
              "      <th>NEW_Diff_RBI</th>\n",
              "      <th>NEW_Diff_Walks</th>\n",
              "    </tr>\n",
              "  </thead>\n",
              "  <tbody>\n",
              "    <tr>\n",
              "      <th>1</th>\n",
              "      <td>315.000</td>\n",
              "      <td>81.000</td>\n",
              "      <td>7.000</td>\n",
              "      <td>24.000</td>\n",
              "      <td>38.000</td>\n",
              "      <td>39.000</td>\n",
              "      <td>14.000</td>\n",
              "      <td>3449.000</td>\n",
              "      <td>835.000</td>\n",
              "      <td>69.000</td>\n",
              "      <td>321.000</td>\n",
              "      <td>414.000</td>\n",
              "      <td>375.000</td>\n",
              "      <td>N</td>\n",
              "      <td>W</td>\n",
              "      <td>632.000</td>\n",
              "      <td>43.000</td>\n",
              "      <td>10.000</td>\n",
              "      <td>475.000</td>\n",
              "      <td>N</td>\n",
              "      <td>81.097</td>\n",
              "      <td>0.092</td>\n",
              "      <td>0.104</td>\n",
              "      <td>8848.000</td>\n",
              "      <td>25.714</td>\n",
              "      <td>1427886.000</td>\n",
              "      <td>11690.000</td>\n",
              "      <td>966.000</td>\n",
              "      <td>22.929</td>\n",
              "      <td>1482.000</td>\n",
              "      <td>0.974</td>\n",
              "      <td>0.242</td>\n",
              "      <td>0.020</td>\n",
              "      <td>68.643</td>\n",
              "      <td>21.357</td>\n",
              "      <td>2.071</td>\n",
              "      <td>1.071</td>\n",
              "      <td>8.429</td>\n",
              "      <td>12.214</td>\n",
              "    </tr>\n",
              "    <tr>\n",
              "      <th>2</th>\n",
              "      <td>479.000</td>\n",
              "      <td>130.000</td>\n",
              "      <td>18.000</td>\n",
              "      <td>66.000</td>\n",
              "      <td>72.000</td>\n",
              "      <td>76.000</td>\n",
              "      <td>3.000</td>\n",
              "      <td>1624.000</td>\n",
              "      <td>457.000</td>\n",
              "      <td>63.000</td>\n",
              "      <td>224.000</td>\n",
              "      <td>266.000</td>\n",
              "      <td>263.000</td>\n",
              "      <td>A</td>\n",
              "      <td>W</td>\n",
              "      <td>648.625</td>\n",
              "      <td>82.000</td>\n",
              "      <td>14.000</td>\n",
              "      <td>480.000</td>\n",
              "      <td>A</td>\n",
              "      <td>130.284</td>\n",
              "      <td>0.271</td>\n",
              "      <td>0.289</td>\n",
              "      <td>1945.875</td>\n",
              "      <td>27.140</td>\n",
              "      <td>431984.000</td>\n",
              "      <td>1371.000</td>\n",
              "      <td>189.000</td>\n",
              "      <td>74.667</td>\n",
              "      <td>5472.000</td>\n",
              "      <td>0.947</td>\n",
              "      <td>0.281</td>\n",
              "      <td>0.039</td>\n",
              "      <td>-62.333</td>\n",
              "      <td>-22.333</td>\n",
              "      <td>-3.000</td>\n",
              "      <td>-8.667</td>\n",
              "      <td>-16.667</td>\n",
              "      <td>-11.667</td>\n",
              "    </tr>\n",
              "    <tr>\n",
              "      <th>3</th>\n",
              "      <td>496.000</td>\n",
              "      <td>141.000</td>\n",
              "      <td>20.000</td>\n",
              "      <td>65.000</td>\n",
              "      <td>78.000</td>\n",
              "      <td>37.000</td>\n",
              "      <td>11.000</td>\n",
              "      <td>5628.000</td>\n",
              "      <td>1575.000</td>\n",
              "      <td>204.000</td>\n",
              "      <td>828.000</td>\n",
              "      <td>838.000</td>\n",
              "      <td>354.000</td>\n",
              "      <td>N</td>\n",
              "      <td>E</td>\n",
              "      <td>200.000</td>\n",
              "      <td>11.000</td>\n",
              "      <td>3.000</td>\n",
              "      <td>500.000</td>\n",
              "      <td>N</td>\n",
              "      <td>141.090</td>\n",
              "      <td>0.093</td>\n",
              "      <td>0.105</td>\n",
              "      <td>2200.000</td>\n",
              "      <td>28.427</td>\n",
              "      <td>4716264.000</td>\n",
              "      <td>17325.000</td>\n",
              "      <td>2244.000</td>\n",
              "      <td>75.273</td>\n",
              "      <td>2886.000</td>\n",
              "      <td>2.108</td>\n",
              "      <td>0.280</td>\n",
              "      <td>0.036</td>\n",
              "      <td>-15.636</td>\n",
              "      <td>-2.182</td>\n",
              "      <td>1.455</td>\n",
              "      <td>-10.273</td>\n",
              "      <td>1.818</td>\n",
              "      <td>4.818</td>\n",
              "    </tr>\n",
              "    <tr>\n",
              "      <th>4</th>\n",
              "      <td>321.000</td>\n",
              "      <td>87.000</td>\n",
              "      <td>10.000</td>\n",
              "      <td>39.000</td>\n",
              "      <td>42.000</td>\n",
              "      <td>30.000</td>\n",
              "      <td>2.000</td>\n",
              "      <td>396.000</td>\n",
              "      <td>101.000</td>\n",
              "      <td>12.000</td>\n",
              "      <td>48.000</td>\n",
              "      <td>46.000</td>\n",
              "      <td>33.000</td>\n",
              "      <td>N</td>\n",
              "      <td>E</td>\n",
              "      <td>648.625</td>\n",
              "      <td>40.000</td>\n",
              "      <td>4.000</td>\n",
              "      <td>91.500</td>\n",
              "      <td>N</td>\n",
              "      <td>87.861</td>\n",
              "      <td>0.913</td>\n",
              "      <td>0.909</td>\n",
              "      <td>1297.250</td>\n",
              "      <td>27.103</td>\n",
              "      <td>18216.000</td>\n",
              "      <td>202.000</td>\n",
              "      <td>24.000</td>\n",
              "      <td>24.000</td>\n",
              "      <td>1260.000</td>\n",
              "      <td>1.400</td>\n",
              "      <td>0.255</td>\n",
              "      <td>0.030</td>\n",
              "      <td>123.000</td>\n",
              "      <td>36.500</td>\n",
              "      <td>4.000</td>\n",
              "      <td>15.000</td>\n",
              "      <td>19.000</td>\n",
              "      <td>13.500</td>\n",
              "    </tr>\n",
              "    <tr>\n",
              "      <th>5</th>\n",
              "      <td>594.000</td>\n",
              "      <td>169.000</td>\n",
              "      <td>4.000</td>\n",
              "      <td>74.000</td>\n",
              "      <td>51.000</td>\n",
              "      <td>35.000</td>\n",
              "      <td>11.000</td>\n",
              "      <td>4408.000</td>\n",
              "      <td>1133.000</td>\n",
              "      <td>19.000</td>\n",
              "      <td>501.000</td>\n",
              "      <td>336.000</td>\n",
              "      <td>194.000</td>\n",
              "      <td>A</td>\n",
              "      <td>W</td>\n",
              "      <td>282.000</td>\n",
              "      <td>404.500</td>\n",
              "      <td>23.000</td>\n",
              "      <td>750.000</td>\n",
              "      <td>A</td>\n",
              "      <td>169.149</td>\n",
              "      <td>0.152</td>\n",
              "      <td>0.180</td>\n",
              "      <td>3102.000</td>\n",
              "      <td>28.451</td>\n",
              "      <td>1481088.000</td>\n",
              "      <td>12463.000</td>\n",
              "      <td>209.000</td>\n",
              "      <td>45.545</td>\n",
              "      <td>1785.000</td>\n",
              "      <td>1.457</td>\n",
              "      <td>0.257</td>\n",
              "      <td>0.004</td>\n",
              "      <td>193.273</td>\n",
              "      <td>66.000</td>\n",
              "      <td>2.273</td>\n",
              "      <td>28.455</td>\n",
              "      <td>20.455</td>\n",
              "      <td>17.364</td>\n",
              "    </tr>\n",
              "  </tbody>\n",
              "</table>\n",
              "</div>\n",
              "    <div class=\"colab-df-buttons\">\n",
              "\n",
              "  <div class=\"colab-df-container\">\n",
              "    <button class=\"colab-df-convert\" onclick=\"convertToInteractive('df-86db7c4a-baaf-4d12-87d1-42fadd0cd111')\"\n",
              "            title=\"Convert this dataframe to an interactive table.\"\n",
              "            style=\"display:none;\">\n",
              "\n",
              "  <svg xmlns=\"http://www.w3.org/2000/svg\" height=\"24px\" viewBox=\"0 -960 960 960\">\n",
              "    <path d=\"M120-120v-720h720v720H120Zm60-500h600v-160H180v160Zm220 220h160v-160H400v160Zm0 220h160v-160H400v160ZM180-400h160v-160H180v160Zm440 0h160v-160H620v160ZM180-180h160v-160H180v160Zm440 0h160v-160H620v160Z\"/>\n",
              "  </svg>\n",
              "    </button>\n",
              "\n",
              "  <style>\n",
              "    .colab-df-container {\n",
              "      display:flex;\n",
              "      gap: 12px;\n",
              "    }\n",
              "\n",
              "    .colab-df-convert {\n",
              "      background-color: #E8F0FE;\n",
              "      border: none;\n",
              "      border-radius: 50%;\n",
              "      cursor: pointer;\n",
              "      display: none;\n",
              "      fill: #1967D2;\n",
              "      height: 32px;\n",
              "      padding: 0 0 0 0;\n",
              "      width: 32px;\n",
              "    }\n",
              "\n",
              "    .colab-df-convert:hover {\n",
              "      background-color: #E2EBFA;\n",
              "      box-shadow: 0px 1px 2px rgba(60, 64, 67, 0.3), 0px 1px 3px 1px rgba(60, 64, 67, 0.15);\n",
              "      fill: #174EA6;\n",
              "    }\n",
              "\n",
              "    .colab-df-buttons div {\n",
              "      margin-bottom: 4px;\n",
              "    }\n",
              "\n",
              "    [theme=dark] .colab-df-convert {\n",
              "      background-color: #3B4455;\n",
              "      fill: #D2E3FC;\n",
              "    }\n",
              "\n",
              "    [theme=dark] .colab-df-convert:hover {\n",
              "      background-color: #434B5C;\n",
              "      box-shadow: 0px 1px 3px 1px rgba(0, 0, 0, 0.15);\n",
              "      filter: drop-shadow(0px 1px 2px rgba(0, 0, 0, 0.3));\n",
              "      fill: #FFFFFF;\n",
              "    }\n",
              "  </style>\n",
              "\n",
              "    <script>\n",
              "      const buttonEl =\n",
              "        document.querySelector('#df-86db7c4a-baaf-4d12-87d1-42fadd0cd111 button.colab-df-convert');\n",
              "      buttonEl.style.display =\n",
              "        google.colab.kernel.accessAllowed ? 'block' : 'none';\n",
              "\n",
              "      async function convertToInteractive(key) {\n",
              "        const element = document.querySelector('#df-86db7c4a-baaf-4d12-87d1-42fadd0cd111');\n",
              "        const dataTable =\n",
              "          await google.colab.kernel.invokeFunction('convertToInteractive',\n",
              "                                                    [key], {});\n",
              "        if (!dataTable) return;\n",
              "\n",
              "        const docLinkHtml = 'Like what you see? Visit the ' +\n",
              "          '<a target=\"_blank\" href=https://colab.research.google.com/notebooks/data_table.ipynb>data table notebook</a>'\n",
              "          + ' to learn more about interactive tables.';\n",
              "        element.innerHTML = '';\n",
              "        dataTable['output_type'] = 'display_data';\n",
              "        await google.colab.output.renderOutput(dataTable, element);\n",
              "        const docLink = document.createElement('div');\n",
              "        docLink.innerHTML = docLinkHtml;\n",
              "        element.appendChild(docLink);\n",
              "      }\n",
              "    </script>\n",
              "  </div>\n",
              "\n",
              "\n",
              "<div id=\"df-c8280719-4685-45b8-9c55-3e9c1f6d47a4\">\n",
              "  <button class=\"colab-df-quickchart\" onclick=\"quickchart('df-c8280719-4685-45b8-9c55-3e9c1f6d47a4')\"\n",
              "            title=\"Suggest charts\"\n",
              "            style=\"display:none;\">\n",
              "\n",
              "<svg xmlns=\"http://www.w3.org/2000/svg\" height=\"24px\"viewBox=\"0 0 24 24\"\n",
              "     width=\"24px\">\n",
              "    <g>\n",
              "        <path d=\"M19 3H5c-1.1 0-2 .9-2 2v14c0 1.1.9 2 2 2h14c1.1 0 2-.9 2-2V5c0-1.1-.9-2-2-2zM9 17H7v-7h2v7zm4 0h-2V7h2v10zm4 0h-2v-4h2v4z\"/>\n",
              "    </g>\n",
              "</svg>\n",
              "  </button>\n",
              "\n",
              "<style>\n",
              "  .colab-df-quickchart {\n",
              "      --bg-color: #E8F0FE;\n",
              "      --fill-color: #1967D2;\n",
              "      --hover-bg-color: #E2EBFA;\n",
              "      --hover-fill-color: #174EA6;\n",
              "      --disabled-fill-color: #AAA;\n",
              "      --disabled-bg-color: #DDD;\n",
              "  }\n",
              "\n",
              "  [theme=dark] .colab-df-quickchart {\n",
              "      --bg-color: #3B4455;\n",
              "      --fill-color: #D2E3FC;\n",
              "      --hover-bg-color: #434B5C;\n",
              "      --hover-fill-color: #FFFFFF;\n",
              "      --disabled-bg-color: #3B4455;\n",
              "      --disabled-fill-color: #666;\n",
              "  }\n",
              "\n",
              "  .colab-df-quickchart {\n",
              "    background-color: var(--bg-color);\n",
              "    border: none;\n",
              "    border-radius: 50%;\n",
              "    cursor: pointer;\n",
              "    display: none;\n",
              "    fill: var(--fill-color);\n",
              "    height: 32px;\n",
              "    padding: 0;\n",
              "    width: 32px;\n",
              "  }\n",
              "\n",
              "  .colab-df-quickchart:hover {\n",
              "    background-color: var(--hover-bg-color);\n",
              "    box-shadow: 0 1px 2px rgba(60, 64, 67, 0.3), 0 1px 3px 1px rgba(60, 64, 67, 0.15);\n",
              "    fill: var(--button-hover-fill-color);\n",
              "  }\n",
              "\n",
              "  .colab-df-quickchart-complete:disabled,\n",
              "  .colab-df-quickchart-complete:disabled:hover {\n",
              "    background-color: var(--disabled-bg-color);\n",
              "    fill: var(--disabled-fill-color);\n",
              "    box-shadow: none;\n",
              "  }\n",
              "\n",
              "  .colab-df-spinner {\n",
              "    border: 2px solid var(--fill-color);\n",
              "    border-color: transparent;\n",
              "    border-bottom-color: var(--fill-color);\n",
              "    animation:\n",
              "      spin 1s steps(1) infinite;\n",
              "  }\n",
              "\n",
              "  @keyframes spin {\n",
              "    0% {\n",
              "      border-color: transparent;\n",
              "      border-bottom-color: var(--fill-color);\n",
              "      border-left-color: var(--fill-color);\n",
              "    }\n",
              "    20% {\n",
              "      border-color: transparent;\n",
              "      border-left-color: var(--fill-color);\n",
              "      border-top-color: var(--fill-color);\n",
              "    }\n",
              "    30% {\n",
              "      border-color: transparent;\n",
              "      border-left-color: var(--fill-color);\n",
              "      border-top-color: var(--fill-color);\n",
              "      border-right-color: var(--fill-color);\n",
              "    }\n",
              "    40% {\n",
              "      border-color: transparent;\n",
              "      border-right-color: var(--fill-color);\n",
              "      border-top-color: var(--fill-color);\n",
              "    }\n",
              "    60% {\n",
              "      border-color: transparent;\n",
              "      border-right-color: var(--fill-color);\n",
              "    }\n",
              "    80% {\n",
              "      border-color: transparent;\n",
              "      border-right-color: var(--fill-color);\n",
              "      border-bottom-color: var(--fill-color);\n",
              "    }\n",
              "    90% {\n",
              "      border-color: transparent;\n",
              "      border-bottom-color: var(--fill-color);\n",
              "    }\n",
              "  }\n",
              "</style>\n",
              "\n",
              "  <script>\n",
              "    async function quickchart(key) {\n",
              "      const quickchartButtonEl =\n",
              "        document.querySelector('#' + key + ' button');\n",
              "      quickchartButtonEl.disabled = true;  // To prevent multiple clicks.\n",
              "      quickchartButtonEl.classList.add('colab-df-spinner');\n",
              "      try {\n",
              "        const charts = await google.colab.kernel.invokeFunction(\n",
              "            'suggestCharts', [key], {});\n",
              "      } catch (error) {\n",
              "        console.error('Error during call to suggestCharts:', error);\n",
              "      }\n",
              "      quickchartButtonEl.classList.remove('colab-df-spinner');\n",
              "      quickchartButtonEl.classList.add('colab-df-quickchart-complete');\n",
              "    }\n",
              "    (() => {\n",
              "      let quickchartButtonEl =\n",
              "        document.querySelector('#df-c8280719-4685-45b8-9c55-3e9c1f6d47a4 button');\n",
              "      quickchartButtonEl.style.display =\n",
              "        google.colab.kernel.accessAllowed ? 'block' : 'none';\n",
              "    })();\n",
              "  </script>\n",
              "</div>\n",
              "\n",
              "    </div>\n",
              "  </div>\n"
            ],
            "application/vnd.google.colaboratory.intrinsic+json": {
              "type": "dataframe",
              "variable_name": "df"
            }
          },
          "metadata": {},
          "execution_count": 34
        }
      ]
    },
    {
      "cell_type": "markdown",
      "source": [
        "### 4. Encoding (Label Encoding, One-Hot Encoding, Rare Encoding)"
      ],
      "metadata": {
        "id": "QxLmGW8uoMzP"
      }
    },
    {
      "cell_type": "code",
      "source": [
        "def one_hot_encoder(dataframe, categorical_cols, drop_first=False):\n",
        "    dataframe = pd.get_dummies(dataframe, columns=categorical_cols, drop_first=drop_first)\n",
        "    return dataframe"
      ],
      "metadata": {
        "id": "dBdWb-GeoV0I"
      },
      "execution_count": 41,
      "outputs": []
    },
    {
      "cell_type": "code",
      "source": [
        "df = one_hot_encoder(df, cat_cols, drop_first=True)\n",
        "df.head()"
      ],
      "metadata": {
        "colab": {
          "base_uri": "https://localhost:8080/",
          "height": 353
        },
        "id": "uonIaAXtqH8w",
        "outputId": "037f75ba-cbbd-41ca-bbd8-a91063191199"
      },
      "execution_count": 42,
      "outputs": [
        {
          "output_type": "error",
          "ename": "KeyError",
          "evalue": "\"None of [Index(['League', 'Division', 'NewLeague'], dtype='object')] are in the [columns]\"",
          "traceback": [
            "\u001b[0;31m---------------------------------------------------------------------------\u001b[0m",
            "\u001b[0;31mKeyError\u001b[0m                                  Traceback (most recent call last)",
            "\u001b[0;32m<ipython-input-42-f10c68d2d07a>\u001b[0m in \u001b[0;36m<cell line: 1>\u001b[0;34m()\u001b[0m\n\u001b[0;32m----> 1\u001b[0;31m \u001b[0mdf\u001b[0m \u001b[0;34m=\u001b[0m \u001b[0mone_hot_encoder\u001b[0m\u001b[0;34m(\u001b[0m\u001b[0mdf\u001b[0m\u001b[0;34m,\u001b[0m \u001b[0mcat_cols\u001b[0m\u001b[0;34m,\u001b[0m \u001b[0mdrop_first\u001b[0m\u001b[0;34m=\u001b[0m\u001b[0;32mTrue\u001b[0m\u001b[0;34m)\u001b[0m\u001b[0;34m\u001b[0m\u001b[0;34m\u001b[0m\u001b[0m\n\u001b[0m\u001b[1;32m      2\u001b[0m \u001b[0mdf\u001b[0m\u001b[0;34m.\u001b[0m\u001b[0mhead\u001b[0m\u001b[0;34m(\u001b[0m\u001b[0;34m)\u001b[0m\u001b[0;34m\u001b[0m\u001b[0;34m\u001b[0m\u001b[0m\n",
            "\u001b[0;32m<ipython-input-41-849b03f5be60>\u001b[0m in \u001b[0;36mone_hot_encoder\u001b[0;34m(dataframe, categorical_cols, drop_first)\u001b[0m\n\u001b[1;32m      1\u001b[0m \u001b[0;32mdef\u001b[0m \u001b[0mone_hot_encoder\u001b[0m\u001b[0;34m(\u001b[0m\u001b[0mdataframe\u001b[0m\u001b[0;34m,\u001b[0m \u001b[0mcategorical_cols\u001b[0m\u001b[0;34m,\u001b[0m \u001b[0mdrop_first\u001b[0m\u001b[0;34m=\u001b[0m\u001b[0;32mFalse\u001b[0m\u001b[0;34m)\u001b[0m\u001b[0;34m:\u001b[0m\u001b[0;34m\u001b[0m\u001b[0;34m\u001b[0m\u001b[0m\n\u001b[0;32m----> 2\u001b[0;31m     \u001b[0mdataframe\u001b[0m \u001b[0;34m=\u001b[0m \u001b[0mpd\u001b[0m\u001b[0;34m.\u001b[0m\u001b[0mget_dummies\u001b[0m\u001b[0;34m(\u001b[0m\u001b[0mdataframe\u001b[0m\u001b[0;34m,\u001b[0m \u001b[0mcolumns\u001b[0m\u001b[0;34m=\u001b[0m\u001b[0mcategorical_cols\u001b[0m\u001b[0;34m,\u001b[0m \u001b[0mdrop_first\u001b[0m\u001b[0;34m=\u001b[0m\u001b[0mdrop_first\u001b[0m\u001b[0;34m)\u001b[0m\u001b[0;34m\u001b[0m\u001b[0;34m\u001b[0m\u001b[0m\n\u001b[0m\u001b[1;32m      3\u001b[0m     \u001b[0;32mreturn\u001b[0m \u001b[0mdataframe\u001b[0m\u001b[0;34m\u001b[0m\u001b[0;34m\u001b[0m\u001b[0m\n",
            "\u001b[0;32m/usr/local/lib/python3.10/dist-packages/pandas/core/reshape/encoding.py\u001b[0m in \u001b[0;36mget_dummies\u001b[0;34m(data, prefix, prefix_sep, dummy_na, columns, sparse, drop_first, dtype)\u001b[0m\n\u001b[1;32m    144\u001b[0m             \u001b[0;32mraise\u001b[0m \u001b[0mTypeError\u001b[0m\u001b[0;34m(\u001b[0m\u001b[0;34m\"Input must be a list-like for parameter `columns`\"\u001b[0m\u001b[0;34m)\u001b[0m\u001b[0;34m\u001b[0m\u001b[0;34m\u001b[0m\u001b[0m\n\u001b[1;32m    145\u001b[0m         \u001b[0;32melse\u001b[0m\u001b[0;34m:\u001b[0m\u001b[0;34m\u001b[0m\u001b[0;34m\u001b[0m\u001b[0m\n\u001b[0;32m--> 146\u001b[0;31m             \u001b[0mdata_to_encode\u001b[0m \u001b[0;34m=\u001b[0m \u001b[0mdata\u001b[0m\u001b[0;34m[\u001b[0m\u001b[0mcolumns\u001b[0m\u001b[0;34m]\u001b[0m\u001b[0;34m\u001b[0m\u001b[0;34m\u001b[0m\u001b[0m\n\u001b[0m\u001b[1;32m    147\u001b[0m \u001b[0;34m\u001b[0m\u001b[0m\n\u001b[1;32m    148\u001b[0m         \u001b[0;31m# validate prefixes and separator to avoid silently dropping cols\u001b[0m\u001b[0;34m\u001b[0m\u001b[0;34m\u001b[0m\u001b[0m\n",
            "\u001b[0;32m/usr/local/lib/python3.10/dist-packages/pandas/core/frame.py\u001b[0m in \u001b[0;36m__getitem__\u001b[0;34m(self, key)\u001b[0m\n\u001b[1;32m   3811\u001b[0m             \u001b[0;32mif\u001b[0m \u001b[0mis_iterator\u001b[0m\u001b[0;34m(\u001b[0m\u001b[0mkey\u001b[0m\u001b[0;34m)\u001b[0m\u001b[0;34m:\u001b[0m\u001b[0;34m\u001b[0m\u001b[0;34m\u001b[0m\u001b[0m\n\u001b[1;32m   3812\u001b[0m                 \u001b[0mkey\u001b[0m \u001b[0;34m=\u001b[0m \u001b[0mlist\u001b[0m\u001b[0;34m(\u001b[0m\u001b[0mkey\u001b[0m\u001b[0;34m)\u001b[0m\u001b[0;34m\u001b[0m\u001b[0;34m\u001b[0m\u001b[0m\n\u001b[0;32m-> 3813\u001b[0;31m             \u001b[0mindexer\u001b[0m \u001b[0;34m=\u001b[0m \u001b[0mself\u001b[0m\u001b[0;34m.\u001b[0m\u001b[0mcolumns\u001b[0m\u001b[0;34m.\u001b[0m\u001b[0m_get_indexer_strict\u001b[0m\u001b[0;34m(\u001b[0m\u001b[0mkey\u001b[0m\u001b[0;34m,\u001b[0m \u001b[0;34m\"columns\"\u001b[0m\u001b[0;34m)\u001b[0m\u001b[0;34m[\u001b[0m\u001b[0;36m1\u001b[0m\u001b[0;34m]\u001b[0m\u001b[0;34m\u001b[0m\u001b[0;34m\u001b[0m\u001b[0m\n\u001b[0m\u001b[1;32m   3814\u001b[0m \u001b[0;34m\u001b[0m\u001b[0m\n\u001b[1;32m   3815\u001b[0m         \u001b[0;31m# take() does not accept boolean indexers\u001b[0m\u001b[0;34m\u001b[0m\u001b[0;34m\u001b[0m\u001b[0m\n",
            "\u001b[0;32m/usr/local/lib/python3.10/dist-packages/pandas/core/indexes/base.py\u001b[0m in \u001b[0;36m_get_indexer_strict\u001b[0;34m(self, key, axis_name)\u001b[0m\n\u001b[1;32m   6068\u001b[0m             \u001b[0mkeyarr\u001b[0m\u001b[0;34m,\u001b[0m \u001b[0mindexer\u001b[0m\u001b[0;34m,\u001b[0m \u001b[0mnew_indexer\u001b[0m \u001b[0;34m=\u001b[0m \u001b[0mself\u001b[0m\u001b[0;34m.\u001b[0m\u001b[0m_reindex_non_unique\u001b[0m\u001b[0;34m(\u001b[0m\u001b[0mkeyarr\u001b[0m\u001b[0;34m)\u001b[0m\u001b[0;34m\u001b[0m\u001b[0;34m\u001b[0m\u001b[0m\n\u001b[1;32m   6069\u001b[0m \u001b[0;34m\u001b[0m\u001b[0m\n\u001b[0;32m-> 6070\u001b[0;31m         \u001b[0mself\u001b[0m\u001b[0;34m.\u001b[0m\u001b[0m_raise_if_missing\u001b[0m\u001b[0;34m(\u001b[0m\u001b[0mkeyarr\u001b[0m\u001b[0;34m,\u001b[0m \u001b[0mindexer\u001b[0m\u001b[0;34m,\u001b[0m \u001b[0maxis_name\u001b[0m\u001b[0;34m)\u001b[0m\u001b[0;34m\u001b[0m\u001b[0;34m\u001b[0m\u001b[0m\n\u001b[0m\u001b[1;32m   6071\u001b[0m \u001b[0;34m\u001b[0m\u001b[0m\n\u001b[1;32m   6072\u001b[0m         \u001b[0mkeyarr\u001b[0m \u001b[0;34m=\u001b[0m \u001b[0mself\u001b[0m\u001b[0;34m.\u001b[0m\u001b[0mtake\u001b[0m\u001b[0;34m(\u001b[0m\u001b[0mindexer\u001b[0m\u001b[0;34m)\u001b[0m\u001b[0;34m\u001b[0m\u001b[0;34m\u001b[0m\u001b[0m\n",
            "\u001b[0;32m/usr/local/lib/python3.10/dist-packages/pandas/core/indexes/base.py\u001b[0m in \u001b[0;36m_raise_if_missing\u001b[0;34m(self, key, indexer, axis_name)\u001b[0m\n\u001b[1;32m   6128\u001b[0m                 \u001b[0;32mif\u001b[0m \u001b[0muse_interval_msg\u001b[0m\u001b[0;34m:\u001b[0m\u001b[0;34m\u001b[0m\u001b[0;34m\u001b[0m\u001b[0m\n\u001b[1;32m   6129\u001b[0m                     \u001b[0mkey\u001b[0m \u001b[0;34m=\u001b[0m \u001b[0mlist\u001b[0m\u001b[0;34m(\u001b[0m\u001b[0mkey\u001b[0m\u001b[0;34m)\u001b[0m\u001b[0;34m\u001b[0m\u001b[0;34m\u001b[0m\u001b[0m\n\u001b[0;32m-> 6130\u001b[0;31m                 \u001b[0;32mraise\u001b[0m \u001b[0mKeyError\u001b[0m\u001b[0;34m(\u001b[0m\u001b[0;34mf\"None of [{key}] are in the [{axis_name}]\"\u001b[0m\u001b[0;34m)\u001b[0m\u001b[0;34m\u001b[0m\u001b[0;34m\u001b[0m\u001b[0m\n\u001b[0m\u001b[1;32m   6131\u001b[0m \u001b[0;34m\u001b[0m\u001b[0m\n\u001b[1;32m   6132\u001b[0m             \u001b[0mnot_found\u001b[0m \u001b[0;34m=\u001b[0m \u001b[0mlist\u001b[0m\u001b[0;34m(\u001b[0m\u001b[0mensure_index\u001b[0m\u001b[0;34m(\u001b[0m\u001b[0mkey\u001b[0m\u001b[0;34m)\u001b[0m\u001b[0;34m[\u001b[0m\u001b[0mmissing_mask\u001b[0m\u001b[0;34m.\u001b[0m\u001b[0mnonzero\u001b[0m\u001b[0;34m(\u001b[0m\u001b[0;34m)\u001b[0m\u001b[0;34m[\u001b[0m\u001b[0;36m0\u001b[0m\u001b[0;34m]\u001b[0m\u001b[0;34m]\u001b[0m\u001b[0;34m.\u001b[0m\u001b[0munique\u001b[0m\u001b[0;34m(\u001b[0m\u001b[0;34m)\u001b[0m\u001b[0;34m)\u001b[0m\u001b[0;34m\u001b[0m\u001b[0;34m\u001b[0m\u001b[0m\n",
            "\u001b[0;31mKeyError\u001b[0m: \"None of [Index(['League', 'Division', 'NewLeague'], dtype='object')] are in the [columns]\""
          ]
        }
      ]
    },
    {
      "cell_type": "markdown",
      "source": [
        "### 5. Feature Scaling (Özellik Ölçeklendirme)"
      ],
      "metadata": {
        "id": "xi3RzgKhoWQQ"
      }
    },
    {
      "cell_type": "code",
      "source": [
        "cat_cols, num_cols, cat_but_car = grab_col_names(df)"
      ],
      "metadata": {
        "colab": {
          "base_uri": "https://localhost:8080/"
        },
        "id": "o2tceTigoYgi",
        "outputId": "29de79d3-58d4-49d2-b490-3857a1a3fcae"
      },
      "execution_count": 43,
      "outputs": [
        {
          "output_type": "stream",
          "name": "stdout",
          "text": [
            "Observations: 263\n",
            "Variables: 39\n",
            "cat_cols: 3\n",
            "num_cols: 36\n",
            "cat_but_car: 0\n",
            "num_but_cat: 3\n"
          ]
        }
      ]
    },
    {
      "cell_type": "code",
      "source": [
        "num_cols = [col for col in num_cols if col not in [\"Salary\"]]\n",
        "scaler = StandardScaler()\n",
        "df[num_cols] = scaler.fit_transform(df[num_cols])\n",
        "df.head()"
      ],
      "metadata": {
        "colab": {
          "base_uri": "https://localhost:8080/",
          "height": 226
        },
        "id": "ES9J_MY0q_AQ",
        "outputId": "d0fb0c92-2ee8-49ce-fb41-16b6391ad9ab"
      },
      "execution_count": 44,
      "outputs": [
        {
          "output_type": "execute_result",
          "data": {
            "text/plain": [
              "   AtBat   Hits  HmRun   Runs    RBI  Walks  Years  CAtBat  CHits  CHmRun  CRuns   CRBI  CWalks  PutOuts  Assists  Errors  Salary  NEW_Hits  NEW_RBI  NEW_Walks  \\\n",
              "1 -0.603 -0.596 -0.530 -1.207 -0.522 -0.097  1.409   0.373  0.201   0.110 -0.113  0.366   0.592    2.072   -0.528   0.242 475.000    -0.601   -0.836     -0.793   \n",
              "2  0.513  0.492  0.738  0.442  0.795  1.615 -0.905  -0.461 -0.418   0.012 -0.425 -0.169   0.081    2.163   -0.242   0.877 480.000     0.492   -0.230     -0.149   \n",
              "3  0.628  0.736  0.969  0.403  1.027 -0.189  0.778   1.369  1.413   2.305  1.518  1.898   0.496   -0.301   -0.762  -0.871 500.000     0.732   -0.831     -0.791   \n",
              "4 -0.562 -0.462 -0.184 -0.618 -0.367 -0.513 -1.115  -1.022 -1.002  -0.817 -0.991 -0.964  -0.969    2.163   -0.550  -0.712  91.500    -0.451    1.943      2.008   \n",
              "5  1.295  1.358 -0.876  0.757 -0.019 -0.282  0.778   0.812  0.689  -0.704  0.466  0.084  -0.234    0.150    2.118   2.307 750.000     1.355   -0.633     -0.527   \n",
              "\n",
              "   NEW_PutOuts  Hits_Success  NEW_CRBI*CATBAT  NEW_Chits  NEW_CHmRun  NEW_CRuns  NEW_RW  NEW_RBWALK  NEW_CH_CB  NEW_CHm_CAT  NEW_Diff_Atbat  NEW_Diff_Hits  \\\n",
              "1        3.327        -0.168            0.011      0.371       0.302     -1.063  -0.466      -0.580     -0.873       -0.273          -0.004          0.093   \n",
              "2        0.056         0.277           -0.468     -0.617      -0.502      1.419   1.488      -0.613      0.805        1.012          -1.149         -1.229   \n",
              "3        0.176         0.679            1.594      0.910       1.624      1.448   0.221       0.782      0.739        0.838          -0.741         -0.619   \n",
              "4       -0.252         0.265           -0.668     -0.729      -0.673     -1.011  -0.575      -0.069     -0.320        0.432           0.471          0.551   \n",
              "5        0.604         0.686            0.037      0.445      -0.481      0.022  -0.318      -0.000     -0.235       -1.346           1.086          1.443   \n",
              "\n",
              "   NEW_Diff_HmRun  NEW_Diff_Runs  NEW_Diff_RBI  NEW_Diff_Walks  League_N  Division_W  NewLeague_N  \n",
              "1          -0.280         -0.473        -0.213           0.155         1           1            1  \n",
              "2          -1.283         -1.010        -1.676          -1.501         0           1            0  \n",
              "3          -0.402         -1.098        -0.599          -0.358         1           0            1  \n",
              "4           0.101          0.295         0.403           0.244         1           0            1  \n",
              "5          -0.240          1.036         0.488           0.512         0           1            0  "
            ],
            "text/html": [
              "\n",
              "  <div id=\"df-87c2b521-a986-4ed4-a226-406f97a51f85\" class=\"colab-df-container\">\n",
              "    <div>\n",
              "<style scoped>\n",
              "    .dataframe tbody tr th:only-of-type {\n",
              "        vertical-align: middle;\n",
              "    }\n",
              "\n",
              "    .dataframe tbody tr th {\n",
              "        vertical-align: top;\n",
              "    }\n",
              "\n",
              "    .dataframe thead th {\n",
              "        text-align: right;\n",
              "    }\n",
              "</style>\n",
              "<table border=\"1\" class=\"dataframe\">\n",
              "  <thead>\n",
              "    <tr style=\"text-align: right;\">\n",
              "      <th></th>\n",
              "      <th>AtBat</th>\n",
              "      <th>Hits</th>\n",
              "      <th>HmRun</th>\n",
              "      <th>Runs</th>\n",
              "      <th>RBI</th>\n",
              "      <th>Walks</th>\n",
              "      <th>Years</th>\n",
              "      <th>CAtBat</th>\n",
              "      <th>CHits</th>\n",
              "      <th>CHmRun</th>\n",
              "      <th>CRuns</th>\n",
              "      <th>CRBI</th>\n",
              "      <th>CWalks</th>\n",
              "      <th>PutOuts</th>\n",
              "      <th>Assists</th>\n",
              "      <th>Errors</th>\n",
              "      <th>Salary</th>\n",
              "      <th>NEW_Hits</th>\n",
              "      <th>NEW_RBI</th>\n",
              "      <th>NEW_Walks</th>\n",
              "      <th>NEW_PutOuts</th>\n",
              "      <th>Hits_Success</th>\n",
              "      <th>NEW_CRBI*CATBAT</th>\n",
              "      <th>NEW_Chits</th>\n",
              "      <th>NEW_CHmRun</th>\n",
              "      <th>NEW_CRuns</th>\n",
              "      <th>NEW_RW</th>\n",
              "      <th>NEW_RBWALK</th>\n",
              "      <th>NEW_CH_CB</th>\n",
              "      <th>NEW_CHm_CAT</th>\n",
              "      <th>NEW_Diff_Atbat</th>\n",
              "      <th>NEW_Diff_Hits</th>\n",
              "      <th>NEW_Diff_HmRun</th>\n",
              "      <th>NEW_Diff_Runs</th>\n",
              "      <th>NEW_Diff_RBI</th>\n",
              "      <th>NEW_Diff_Walks</th>\n",
              "      <th>League_N</th>\n",
              "      <th>Division_W</th>\n",
              "      <th>NewLeague_N</th>\n",
              "    </tr>\n",
              "  </thead>\n",
              "  <tbody>\n",
              "    <tr>\n",
              "      <th>1</th>\n",
              "      <td>-0.603</td>\n",
              "      <td>-0.596</td>\n",
              "      <td>-0.530</td>\n",
              "      <td>-1.207</td>\n",
              "      <td>-0.522</td>\n",
              "      <td>-0.097</td>\n",
              "      <td>1.409</td>\n",
              "      <td>0.373</td>\n",
              "      <td>0.201</td>\n",
              "      <td>0.110</td>\n",
              "      <td>-0.113</td>\n",
              "      <td>0.366</td>\n",
              "      <td>0.592</td>\n",
              "      <td>2.072</td>\n",
              "      <td>-0.528</td>\n",
              "      <td>0.242</td>\n",
              "      <td>475.000</td>\n",
              "      <td>-0.601</td>\n",
              "      <td>-0.836</td>\n",
              "      <td>-0.793</td>\n",
              "      <td>3.327</td>\n",
              "      <td>-0.168</td>\n",
              "      <td>0.011</td>\n",
              "      <td>0.371</td>\n",
              "      <td>0.302</td>\n",
              "      <td>-1.063</td>\n",
              "      <td>-0.466</td>\n",
              "      <td>-0.580</td>\n",
              "      <td>-0.873</td>\n",
              "      <td>-0.273</td>\n",
              "      <td>-0.004</td>\n",
              "      <td>0.093</td>\n",
              "      <td>-0.280</td>\n",
              "      <td>-0.473</td>\n",
              "      <td>-0.213</td>\n",
              "      <td>0.155</td>\n",
              "      <td>1</td>\n",
              "      <td>1</td>\n",
              "      <td>1</td>\n",
              "    </tr>\n",
              "    <tr>\n",
              "      <th>2</th>\n",
              "      <td>0.513</td>\n",
              "      <td>0.492</td>\n",
              "      <td>0.738</td>\n",
              "      <td>0.442</td>\n",
              "      <td>0.795</td>\n",
              "      <td>1.615</td>\n",
              "      <td>-0.905</td>\n",
              "      <td>-0.461</td>\n",
              "      <td>-0.418</td>\n",
              "      <td>0.012</td>\n",
              "      <td>-0.425</td>\n",
              "      <td>-0.169</td>\n",
              "      <td>0.081</td>\n",
              "      <td>2.163</td>\n",
              "      <td>-0.242</td>\n",
              "      <td>0.877</td>\n",
              "      <td>480.000</td>\n",
              "      <td>0.492</td>\n",
              "      <td>-0.230</td>\n",
              "      <td>-0.149</td>\n",
              "      <td>0.056</td>\n",
              "      <td>0.277</td>\n",
              "      <td>-0.468</td>\n",
              "      <td>-0.617</td>\n",
              "      <td>-0.502</td>\n",
              "      <td>1.419</td>\n",
              "      <td>1.488</td>\n",
              "      <td>-0.613</td>\n",
              "      <td>0.805</td>\n",
              "      <td>1.012</td>\n",
              "      <td>-1.149</td>\n",
              "      <td>-1.229</td>\n",
              "      <td>-1.283</td>\n",
              "      <td>-1.010</td>\n",
              "      <td>-1.676</td>\n",
              "      <td>-1.501</td>\n",
              "      <td>0</td>\n",
              "      <td>1</td>\n",
              "      <td>0</td>\n",
              "    </tr>\n",
              "    <tr>\n",
              "      <th>3</th>\n",
              "      <td>0.628</td>\n",
              "      <td>0.736</td>\n",
              "      <td>0.969</td>\n",
              "      <td>0.403</td>\n",
              "      <td>1.027</td>\n",
              "      <td>-0.189</td>\n",
              "      <td>0.778</td>\n",
              "      <td>1.369</td>\n",
              "      <td>1.413</td>\n",
              "      <td>2.305</td>\n",
              "      <td>1.518</td>\n",
              "      <td>1.898</td>\n",
              "      <td>0.496</td>\n",
              "      <td>-0.301</td>\n",
              "      <td>-0.762</td>\n",
              "      <td>-0.871</td>\n",
              "      <td>500.000</td>\n",
              "      <td>0.732</td>\n",
              "      <td>-0.831</td>\n",
              "      <td>-0.791</td>\n",
              "      <td>0.176</td>\n",
              "      <td>0.679</td>\n",
              "      <td>1.594</td>\n",
              "      <td>0.910</td>\n",
              "      <td>1.624</td>\n",
              "      <td>1.448</td>\n",
              "      <td>0.221</td>\n",
              "      <td>0.782</td>\n",
              "      <td>0.739</td>\n",
              "      <td>0.838</td>\n",
              "      <td>-0.741</td>\n",
              "      <td>-0.619</td>\n",
              "      <td>-0.402</td>\n",
              "      <td>-1.098</td>\n",
              "      <td>-0.599</td>\n",
              "      <td>-0.358</td>\n",
              "      <td>1</td>\n",
              "      <td>0</td>\n",
              "      <td>1</td>\n",
              "    </tr>\n",
              "    <tr>\n",
              "      <th>4</th>\n",
              "      <td>-0.562</td>\n",
              "      <td>-0.462</td>\n",
              "      <td>-0.184</td>\n",
              "      <td>-0.618</td>\n",
              "      <td>-0.367</td>\n",
              "      <td>-0.513</td>\n",
              "      <td>-1.115</td>\n",
              "      <td>-1.022</td>\n",
              "      <td>-1.002</td>\n",
              "      <td>-0.817</td>\n",
              "      <td>-0.991</td>\n",
              "      <td>-0.964</td>\n",
              "      <td>-0.969</td>\n",
              "      <td>2.163</td>\n",
              "      <td>-0.550</td>\n",
              "      <td>-0.712</td>\n",
              "      <td>91.500</td>\n",
              "      <td>-0.451</td>\n",
              "      <td>1.943</td>\n",
              "      <td>2.008</td>\n",
              "      <td>-0.252</td>\n",
              "      <td>0.265</td>\n",
              "      <td>-0.668</td>\n",
              "      <td>-0.729</td>\n",
              "      <td>-0.673</td>\n",
              "      <td>-1.011</td>\n",
              "      <td>-0.575</td>\n",
              "      <td>-0.069</td>\n",
              "      <td>-0.320</td>\n",
              "      <td>0.432</td>\n",
              "      <td>0.471</td>\n",
              "      <td>0.551</td>\n",
              "      <td>0.101</td>\n",
              "      <td>0.295</td>\n",
              "      <td>0.403</td>\n",
              "      <td>0.244</td>\n",
              "      <td>1</td>\n",
              "      <td>0</td>\n",
              "      <td>1</td>\n",
              "    </tr>\n",
              "    <tr>\n",
              "      <th>5</th>\n",
              "      <td>1.295</td>\n",
              "      <td>1.358</td>\n",
              "      <td>-0.876</td>\n",
              "      <td>0.757</td>\n",
              "      <td>-0.019</td>\n",
              "      <td>-0.282</td>\n",
              "      <td>0.778</td>\n",
              "      <td>0.812</td>\n",
              "      <td>0.689</td>\n",
              "      <td>-0.704</td>\n",
              "      <td>0.466</td>\n",
              "      <td>0.084</td>\n",
              "      <td>-0.234</td>\n",
              "      <td>0.150</td>\n",
              "      <td>2.118</td>\n",
              "      <td>2.307</td>\n",
              "      <td>750.000</td>\n",
              "      <td>1.355</td>\n",
              "      <td>-0.633</td>\n",
              "      <td>-0.527</td>\n",
              "      <td>0.604</td>\n",
              "      <td>0.686</td>\n",
              "      <td>0.037</td>\n",
              "      <td>0.445</td>\n",
              "      <td>-0.481</td>\n",
              "      <td>0.022</td>\n",
              "      <td>-0.318</td>\n",
              "      <td>-0.000</td>\n",
              "      <td>-0.235</td>\n",
              "      <td>-1.346</td>\n",
              "      <td>1.086</td>\n",
              "      <td>1.443</td>\n",
              "      <td>-0.240</td>\n",
              "      <td>1.036</td>\n",
              "      <td>0.488</td>\n",
              "      <td>0.512</td>\n",
              "      <td>0</td>\n",
              "      <td>1</td>\n",
              "      <td>0</td>\n",
              "    </tr>\n",
              "  </tbody>\n",
              "</table>\n",
              "</div>\n",
              "    <div class=\"colab-df-buttons\">\n",
              "\n",
              "  <div class=\"colab-df-container\">\n",
              "    <button class=\"colab-df-convert\" onclick=\"convertToInteractive('df-87c2b521-a986-4ed4-a226-406f97a51f85')\"\n",
              "            title=\"Convert this dataframe to an interactive table.\"\n",
              "            style=\"display:none;\">\n",
              "\n",
              "  <svg xmlns=\"http://www.w3.org/2000/svg\" height=\"24px\" viewBox=\"0 -960 960 960\">\n",
              "    <path d=\"M120-120v-720h720v720H120Zm60-500h600v-160H180v160Zm220 220h160v-160H400v160Zm0 220h160v-160H400v160ZM180-400h160v-160H180v160Zm440 0h160v-160H620v160ZM180-180h160v-160H180v160Zm440 0h160v-160H620v160Z\"/>\n",
              "  </svg>\n",
              "    </button>\n",
              "\n",
              "  <style>\n",
              "    .colab-df-container {\n",
              "      display:flex;\n",
              "      gap: 12px;\n",
              "    }\n",
              "\n",
              "    .colab-df-convert {\n",
              "      background-color: #E8F0FE;\n",
              "      border: none;\n",
              "      border-radius: 50%;\n",
              "      cursor: pointer;\n",
              "      display: none;\n",
              "      fill: #1967D2;\n",
              "      height: 32px;\n",
              "      padding: 0 0 0 0;\n",
              "      width: 32px;\n",
              "    }\n",
              "\n",
              "    .colab-df-convert:hover {\n",
              "      background-color: #E2EBFA;\n",
              "      box-shadow: 0px 1px 2px rgba(60, 64, 67, 0.3), 0px 1px 3px 1px rgba(60, 64, 67, 0.15);\n",
              "      fill: #174EA6;\n",
              "    }\n",
              "\n",
              "    .colab-df-buttons div {\n",
              "      margin-bottom: 4px;\n",
              "    }\n",
              "\n",
              "    [theme=dark] .colab-df-convert {\n",
              "      background-color: #3B4455;\n",
              "      fill: #D2E3FC;\n",
              "    }\n",
              "\n",
              "    [theme=dark] .colab-df-convert:hover {\n",
              "      background-color: #434B5C;\n",
              "      box-shadow: 0px 1px 3px 1px rgba(0, 0, 0, 0.15);\n",
              "      filter: drop-shadow(0px 1px 2px rgba(0, 0, 0, 0.3));\n",
              "      fill: #FFFFFF;\n",
              "    }\n",
              "  </style>\n",
              "\n",
              "    <script>\n",
              "      const buttonEl =\n",
              "        document.querySelector('#df-87c2b521-a986-4ed4-a226-406f97a51f85 button.colab-df-convert');\n",
              "      buttonEl.style.display =\n",
              "        google.colab.kernel.accessAllowed ? 'block' : 'none';\n",
              "\n",
              "      async function convertToInteractive(key) {\n",
              "        const element = document.querySelector('#df-87c2b521-a986-4ed4-a226-406f97a51f85');\n",
              "        const dataTable =\n",
              "          await google.colab.kernel.invokeFunction('convertToInteractive',\n",
              "                                                    [key], {});\n",
              "        if (!dataTable) return;\n",
              "\n",
              "        const docLinkHtml = 'Like what you see? Visit the ' +\n",
              "          '<a target=\"_blank\" href=https://colab.research.google.com/notebooks/data_table.ipynb>data table notebook</a>'\n",
              "          + ' to learn more about interactive tables.';\n",
              "        element.innerHTML = '';\n",
              "        dataTable['output_type'] = 'display_data';\n",
              "        await google.colab.output.renderOutput(dataTable, element);\n",
              "        const docLink = document.createElement('div');\n",
              "        docLink.innerHTML = docLinkHtml;\n",
              "        element.appendChild(docLink);\n",
              "      }\n",
              "    </script>\n",
              "  </div>\n",
              "\n",
              "\n",
              "<div id=\"df-cd712b42-476a-4a4c-83e6-d5e184e9a35b\">\n",
              "  <button class=\"colab-df-quickchart\" onclick=\"quickchart('df-cd712b42-476a-4a4c-83e6-d5e184e9a35b')\"\n",
              "            title=\"Suggest charts\"\n",
              "            style=\"display:none;\">\n",
              "\n",
              "<svg xmlns=\"http://www.w3.org/2000/svg\" height=\"24px\"viewBox=\"0 0 24 24\"\n",
              "     width=\"24px\">\n",
              "    <g>\n",
              "        <path d=\"M19 3H5c-1.1 0-2 .9-2 2v14c0 1.1.9 2 2 2h14c1.1 0 2-.9 2-2V5c0-1.1-.9-2-2-2zM9 17H7v-7h2v7zm4 0h-2V7h2v10zm4 0h-2v-4h2v4z\"/>\n",
              "    </g>\n",
              "</svg>\n",
              "  </button>\n",
              "\n",
              "<style>\n",
              "  .colab-df-quickchart {\n",
              "      --bg-color: #E8F0FE;\n",
              "      --fill-color: #1967D2;\n",
              "      --hover-bg-color: #E2EBFA;\n",
              "      --hover-fill-color: #174EA6;\n",
              "      --disabled-fill-color: #AAA;\n",
              "      --disabled-bg-color: #DDD;\n",
              "  }\n",
              "\n",
              "  [theme=dark] .colab-df-quickchart {\n",
              "      --bg-color: #3B4455;\n",
              "      --fill-color: #D2E3FC;\n",
              "      --hover-bg-color: #434B5C;\n",
              "      --hover-fill-color: #FFFFFF;\n",
              "      --disabled-bg-color: #3B4455;\n",
              "      --disabled-fill-color: #666;\n",
              "  }\n",
              "\n",
              "  .colab-df-quickchart {\n",
              "    background-color: var(--bg-color);\n",
              "    border: none;\n",
              "    border-radius: 50%;\n",
              "    cursor: pointer;\n",
              "    display: none;\n",
              "    fill: var(--fill-color);\n",
              "    height: 32px;\n",
              "    padding: 0;\n",
              "    width: 32px;\n",
              "  }\n",
              "\n",
              "  .colab-df-quickchart:hover {\n",
              "    background-color: var(--hover-bg-color);\n",
              "    box-shadow: 0 1px 2px rgba(60, 64, 67, 0.3), 0 1px 3px 1px rgba(60, 64, 67, 0.15);\n",
              "    fill: var(--button-hover-fill-color);\n",
              "  }\n",
              "\n",
              "  .colab-df-quickchart-complete:disabled,\n",
              "  .colab-df-quickchart-complete:disabled:hover {\n",
              "    background-color: var(--disabled-bg-color);\n",
              "    fill: var(--disabled-fill-color);\n",
              "    box-shadow: none;\n",
              "  }\n",
              "\n",
              "  .colab-df-spinner {\n",
              "    border: 2px solid var(--fill-color);\n",
              "    border-color: transparent;\n",
              "    border-bottom-color: var(--fill-color);\n",
              "    animation:\n",
              "      spin 1s steps(1) infinite;\n",
              "  }\n",
              "\n",
              "  @keyframes spin {\n",
              "    0% {\n",
              "      border-color: transparent;\n",
              "      border-bottom-color: var(--fill-color);\n",
              "      border-left-color: var(--fill-color);\n",
              "    }\n",
              "    20% {\n",
              "      border-color: transparent;\n",
              "      border-left-color: var(--fill-color);\n",
              "      border-top-color: var(--fill-color);\n",
              "    }\n",
              "    30% {\n",
              "      border-color: transparent;\n",
              "      border-left-color: var(--fill-color);\n",
              "      border-top-color: var(--fill-color);\n",
              "      border-right-color: var(--fill-color);\n",
              "    }\n",
              "    40% {\n",
              "      border-color: transparent;\n",
              "      border-right-color: var(--fill-color);\n",
              "      border-top-color: var(--fill-color);\n",
              "    }\n",
              "    60% {\n",
              "      border-color: transparent;\n",
              "      border-right-color: var(--fill-color);\n",
              "    }\n",
              "    80% {\n",
              "      border-color: transparent;\n",
              "      border-right-color: var(--fill-color);\n",
              "      border-bottom-color: var(--fill-color);\n",
              "    }\n",
              "    90% {\n",
              "      border-color: transparent;\n",
              "      border-bottom-color: var(--fill-color);\n",
              "    }\n",
              "  }\n",
              "</style>\n",
              "\n",
              "  <script>\n",
              "    async function quickchart(key) {\n",
              "      const quickchartButtonEl =\n",
              "        document.querySelector('#' + key + ' button');\n",
              "      quickchartButtonEl.disabled = true;  // To prevent multiple clicks.\n",
              "      quickchartButtonEl.classList.add('colab-df-spinner');\n",
              "      try {\n",
              "        const charts = await google.colab.kernel.invokeFunction(\n",
              "            'suggestCharts', [key], {});\n",
              "      } catch (error) {\n",
              "        console.error('Error during call to suggestCharts:', error);\n",
              "      }\n",
              "      quickchartButtonEl.classList.remove('colab-df-spinner');\n",
              "      quickchartButtonEl.classList.add('colab-df-quickchart-complete');\n",
              "    }\n",
              "    (() => {\n",
              "      let quickchartButtonEl =\n",
              "        document.querySelector('#df-cd712b42-476a-4a4c-83e6-d5e184e9a35b button');\n",
              "      quickchartButtonEl.style.display =\n",
              "        google.colab.kernel.accessAllowed ? 'block' : 'none';\n",
              "    })();\n",
              "  </script>\n",
              "</div>\n",
              "\n",
              "    </div>\n",
              "  </div>\n"
            ],
            "application/vnd.google.colaboratory.intrinsic+json": {
              "type": "dataframe",
              "variable_name": "df"
            }
          },
          "metadata": {},
          "execution_count": 44
        }
      ]
    },
    {
      "cell_type": "markdown",
      "source": [
        "## models"
      ],
      "metadata": {
        "id": "GckNiUYprGFQ"
      }
    },
    {
      "cell_type": "markdown",
      "source": [
        "### base models\n"
      ],
      "metadata": {
        "id": "A9c4KSJjrMdB"
      }
    },
    {
      "cell_type": "code",
      "source": [
        "y = df[\"Salary\"]\n",
        "X = df.drop([\"Salary\"], axis=1)"
      ],
      "metadata": {
        "id": "NTQ20g1WrPkp"
      },
      "execution_count": 45,
      "outputs": []
    },
    {
      "cell_type": "code",
      "source": [
        "models = [('LR', LinearRegression()),\n",
        "          (\"Ridge\", Ridge()),\n",
        "          (\"Lasso\", Lasso()),\n",
        "          (\"ElasticNet\", ElasticNet()),\n",
        "          ('KNN', KNeighborsRegressor()),\n",
        "          ('CART', DecisionTreeRegressor()),\n",
        "          ('RF', RandomForestRegressor()),\n",
        "          ('SVR', SVR()),\n",
        "          ('GBM', GradientBoostingRegressor()),\n",
        "          (\"XGBoost\", XGBRegressor(objective='reg:squarederror')),\n",
        "          (\"LightGBM\", LGBMRegressor()),\n",
        "          (\"CatBoost\", CatBoostRegressor(verbose=False))]"
      ],
      "metadata": {
        "colab": {
          "base_uri": "https://localhost:8080/",
          "height": 183
        },
        "id": "x9QxnNqxrTp0",
        "outputId": "753a5955-08da-4d99-9205-addb6cf660d0"
      },
      "execution_count": 46,
      "outputs": [
        {
          "output_type": "error",
          "ename": "NameError",
          "evalue": "name 'CatBoostRegressor' is not defined",
          "traceback": [
            "\u001b[0;31m---------------------------------------------------------------------------\u001b[0m",
            "\u001b[0;31mNameError\u001b[0m                                 Traceback (most recent call last)",
            "\u001b[0;32m<ipython-input-46-93a56747b7bb>\u001b[0m in \u001b[0;36m<cell line: 1>\u001b[0;34m()\u001b[0m\n\u001b[1;32m     10\u001b[0m           \u001b[0;34m(\u001b[0m\u001b[0;34m\"XGBoost\"\u001b[0m\u001b[0;34m,\u001b[0m \u001b[0mXGBRegressor\u001b[0m\u001b[0;34m(\u001b[0m\u001b[0mobjective\u001b[0m\u001b[0;34m=\u001b[0m\u001b[0;34m'reg:squarederror'\u001b[0m\u001b[0;34m)\u001b[0m\u001b[0;34m)\u001b[0m\u001b[0;34m,\u001b[0m\u001b[0;34m\u001b[0m\u001b[0;34m\u001b[0m\u001b[0m\n\u001b[1;32m     11\u001b[0m           \u001b[0;34m(\u001b[0m\u001b[0;34m\"LightGBM\"\u001b[0m\u001b[0;34m,\u001b[0m \u001b[0mLGBMRegressor\u001b[0m\u001b[0;34m(\u001b[0m\u001b[0;34m)\u001b[0m\u001b[0;34m)\u001b[0m\u001b[0;34m,\u001b[0m\u001b[0;34m\u001b[0m\u001b[0;34m\u001b[0m\u001b[0m\n\u001b[0;32m---> 12\u001b[0;31m           (\"CatBoost\", CatBoostRegressor(verbose=False))]\n\u001b[0m",
            "\u001b[0;31mNameError\u001b[0m: name 'CatBoostRegressor' is not defined"
          ]
        }
      ]
    },
    {
      "cell_type": "code",
      "source": [
        "for name, regressor in models:\n",
        "    rmse = np.mean(np.sqrt(-cross_val_score(regressor, X, y, cv=10, scoring=\"neg_mean_squared_error\")))\n",
        "    print(f\"RMSE: {round(rmse, 4)} ({name}) \")"
      ],
      "metadata": {
        "id": "H84gDF-8rWwv"
      },
      "execution_count": null,
      "outputs": []
    },
    {
      "cell_type": "markdown",
      "source": [
        "### random forest"
      ],
      "metadata": {
        "id": "HROKKIIjt7N8"
      }
    },
    {
      "cell_type": "code",
      "source": [
        "rf_model = RandomForestRegressor(random_state=17)"
      ],
      "metadata": {
        "id": "dwe7ee1zt-Eh"
      },
      "execution_count": 47,
      "outputs": []
    },
    {
      "cell_type": "code",
      "source": [
        "rf_params = {\"max_depth\": [5, 8, 15, None],\n",
        "             \"max_features\": [5, 7, \"auto\"],\n",
        "             \"min_samples_split\": [8, 15, 20],\n",
        "             \"n_estimators\": [200, 500]}"
      ],
      "metadata": {
        "id": "E8h7Il3ouB17"
      },
      "execution_count": null,
      "outputs": []
    },
    {
      "cell_type": "code",
      "source": [
        "rf_best_grid = GridSearchCV(rf_model, rf_params, cv=5, n_jobs=-1, verbose=True).fit(X, y)\n",
        "rf_final = rf_model.set_params(**rf_best_grid.best_params_, random_state=17).fit(X, y)\n",
        "rmse = np.mean(np.sqrt(-cross_val_score(rf_final, X, y, cv=10, scoring=\"neg_mean_squared_error\")))\n",
        "rmse"
      ],
      "metadata": {
        "id": "6tZYtVxkuDt2"
      },
      "execution_count": null,
      "outputs": []
    },
    {
      "cell_type": "markdown",
      "source": [
        "### GBM Model"
      ],
      "metadata": {
        "id": "cU3jBp20uFRm"
      }
    },
    {
      "cell_type": "code",
      "source": [
        "gbm_model = GradientBoostingRegressor(random_state=17)\n",
        "\n",
        "gbm_params = {\"learning_rate\": [0.01, 0.1],\n",
        "              \"max_depth\": [3, 8],\n",
        "              \"n_estimators\": [500, 1000],\n",
        "              \"subsample\": [1, 0.5, 0.7]}"
      ],
      "metadata": {
        "id": "-nH8QYwSuEjm"
      },
      "execution_count": null,
      "outputs": []
    },
    {
      "cell_type": "code",
      "source": [
        "gbm_best_grid = GridSearchCV(gbm_model, gbm_params, cv=5, n_jobs=-1, verbose=True).fit(X, y)\n",
        "gbm_final = gbm_model.set_params(**gbm_best_grid.best_params_, random_state=17, ).fit(X, y)\n",
        "rmse = np.mean(np.sqrt(-cross_val_score(gbm_final, X, y, cv=10, scoring=\"neg_mean_squared_error\")))\n",
        "rmse"
      ],
      "metadata": {
        "id": "KKMk77_vuNqk"
      },
      "execution_count": null,
      "outputs": []
    },
    {
      "cell_type": "markdown",
      "source": [
        "### LightGBM"
      ],
      "metadata": {
        "id": "1MKGDtKKuP1n"
      }
    },
    {
      "cell_type": "code",
      "source": [
        "lgbm_model = LGBMRegressor(random_state=17)\n",
        "\n",
        "lgbm_params = {\"learning_rate\": [0.01, 0.1],\n",
        "                \"n_estimators\": [300, 500],\n",
        "                \"colsample_bytree\": [0.7, 1]}"
      ],
      "metadata": {
        "id": "FiRl-4NpuR5L"
      },
      "execution_count": null,
      "outputs": []
    },
    {
      "cell_type": "code",
      "source": [
        "lgbm_best_grid = GridSearchCV(lgbm_model, lgbm_params, cv=5, n_jobs=-1, verbose=True).fit(X, y)\n",
        "lgbm_final = lgbm_model.set_params(**lgbm_best_grid.best_params_, random_state=17).fit(X, y)\n",
        "rmse = np.mean(np.sqrt(-cross_val_score(lgbm_final, X, y, cv=10, scoring=\"neg_mean_squared_error\")))\n",
        "rmse"
      ],
      "metadata": {
        "id": "W93eSfJBuToa"
      },
      "execution_count": null,
      "outputs": []
    },
    {
      "cell_type": "markdown",
      "source": [
        "### CatBoost"
      ],
      "metadata": {
        "id": "1bOF7Q73uV4d"
      }
    },
    {
      "cell_type": "code",
      "source": [
        "catboost_model = CatBoostRegressor(random_state=17, verbose=False)\n",
        "\n",
        "catboost_params = {\"iterations\": [200, 500],\n",
        "                   \"learning_rate\": [0.01, 0.1],\n",
        "                   \"depth\": [3, 6]}"
      ],
      "metadata": {
        "id": "AyOpXUw4uXcS"
      },
      "execution_count": null,
      "outputs": []
    },
    {
      "cell_type": "code",
      "source": [
        "catboost_best_grid = GridSearchCV(catboost_model, catboost_params, cv=5, n_jobs=-1, verbose=True).fit(X, y)\n",
        "catboost_final = catboost_model.set_params(**catboost_best_grid.best_params_, random_state=17).fit(X, y)\n",
        "rmse = np.mean(np.sqrt(-cross_val_score(catboost_final, X, y, cv=10, scoring=\"neg_mean_squared_error\")))\n",
        "rmse"
      ],
      "metadata": {
        "id": "AtiO5HnfuZJW"
      },
      "execution_count": null,
      "outputs": []
    },
    {
      "cell_type": "markdown",
      "source": [
        "###  Automated Hyperparameter Optimization"
      ],
      "metadata": {
        "id": "tdEP3Nhjuaud"
      }
    },
    {
      "cell_type": "code",
      "source": [
        "rf_params = {\"max_depth\": [5, 8, 15, None],\n",
        "             \"max_features\": [5, 7, \"auto\"],\n",
        "             \"min_samples_split\": [8, 15, 20],\n",
        "             \"n_estimators\": [200, 500]}\n",
        "\n",
        "gbm_params = {\"learning_rate\": [0.01, 0.1],\n",
        "              \"max_depth\": [3, 8],\n",
        "              \"n_estimators\": [500, 1000],\n",
        "              \"subsample\": [1, 0.5, 0.7]}\n",
        "\n",
        "\n",
        "lightgbm_params = {\"learning_rate\": [0.01, 0.1],\n",
        "                   \"n_estimators\": [300, 500],\n",
        "                   \"colsample_bytree\": [0.7, 1]}\n",
        "\n",
        "catboost_params = {\"iterations\": [200, 500],\n",
        "                   \"learning_rate\": [0.01, 0.1],\n",
        "                   \"depth\": [3, 6]}\n",
        "\n",
        "\n",
        "regressors = [(\"RF\", RandomForestRegressor(), rf_params),\n",
        "              ('GBM', GradientBoostingRegressor(), gbm_params),\n",
        "              ('LightGBM', LGBMRegressor(), lightgbm_params),\n",
        "              (\"CatBoost\", CatBoostRegressor(), catboost_params)]"
      ],
      "metadata": {
        "id": "cK7ARmGVudHB"
      },
      "execution_count": null,
      "outputs": []
    },
    {
      "cell_type": "code",
      "source": [
        "best_models = {}"
      ],
      "metadata": {
        "id": "YFexHdrmuh7X"
      },
      "execution_count": null,
      "outputs": []
    },
    {
      "cell_type": "code",
      "source": [
        "for name, regressor, params in regressors:\n",
        "    print(f\"########## {name} ##########\")\n",
        "    rmse = np.mean(np.sqrt(-cross_val_score(regressor, X, y, cv=10, scoring=\"neg_mean_squared_error\")))\n",
        "    print(f\"RMSE: {round(rmse, 4)} ({name}) \")\n",
        "\n",
        "    gs_best = GridSearchCV(regressor, params, cv=3, n_jobs=-1, verbose=False).fit(X, y)\n",
        "\n",
        "    final_model = regressor.set_params(**gs_best.best_params_)\n",
        "    rmse = np.mean(np.sqrt(-cross_val_score(final_model, X, y, cv=10, scoring=\"neg_mean_squared_error\")))\n",
        "    print(f\"RMSE (After): {round(rmse, 4)} ({name}) \")\n",
        "\n",
        "    print(f\"{name} best params: {gs_best.best_params_}\", end=\"\\n\\n\")\n",
        "\n",
        "    best_models[name] = final_model"
      ],
      "metadata": {
        "id": "ybH83XzIuly7"
      },
      "execution_count": null,
      "outputs": []
    },
    {
      "cell_type": "markdown",
      "source": [
        "## Feature Importance"
      ],
      "metadata": {
        "id": "w3gMXZq_umvA"
      }
    },
    {
      "cell_type": "code",
      "source": [
        "def plot_importance(model, features, num=len(X), save=False):\n",
        "    feature_imp = pd.DataFrame({'Value': model.feature_importances_, 'Feature': features.columns})\n",
        "    plt.figure(figsize=(10, 10))\n",
        "    sns.set(font_scale=1)\n",
        "    sns.barplot(x=\"Value\", y=\"Feature\", data=feature_imp.sort_values(by=\"Value\",\n",
        "                                                                     ascending=False)[0:num])\n",
        "    plt.title('Features')\n",
        "    plt.tight_layout()\n",
        "    plt.show()\n",
        "    if save:\n",
        "        plt.savefig('importances.png')"
      ],
      "metadata": {
        "id": "N5cNrzGRur2s"
      },
      "execution_count": null,
      "outputs": []
    },
    {
      "cell_type": "code",
      "source": [
        "plot_importance(rf_final, X)\n",
        "plot_importance(gbm_final, X)\n",
        "plot_importance(lgbm_final, X)\n",
        "plot_importance(catboost_final, X)"
      ],
      "metadata": {
        "id": "t6XmIbIQutMT"
      },
      "execution_count": null,
      "outputs": []
    },
    {
      "cell_type": "markdown",
      "source": [
        "# Analyzing Model Complexity with Learning Curves"
      ],
      "metadata": {
        "id": "oUkH07RruvRt"
      }
    },
    {
      "cell_type": "code",
      "source": [
        "def val_curve_params(model, X, y, param_name, param_range, scoring=\"roc_auc\", cv=10):\n",
        "    train_score, test_score = validation_curve(\n",
        "        model, X=X, y=y, param_name=param_name, param_range=param_range, scoring=scoring, cv=cv)\n",
        "\n",
        "    mean_train_score = np.mean(train_score, axis=1)\n",
        "    mean_test_score = np.mean(test_score, axis=1)\n",
        "\n",
        "    plt.plot(param_range, mean_train_score,\n",
        "             label=\"Training Score\", color='b')\n",
        "\n",
        "    plt.plot(param_range, mean_test_score,\n",
        "             label=\"Validation Score\", color='g')\n",
        "\n",
        "    plt.title(f\"Validation Curve for {type(model).__name__}\")\n",
        "    plt.xlabel(f\"Number of {param_name}\")\n",
        "    plt.ylabel(f\"{scoring}\")\n",
        "    plt.tight_layout()\n",
        "    plt.legend(loc='best')\n",
        "    plt.show()"
      ],
      "metadata": {
        "id": "vWSaF-g5u1I7"
      },
      "execution_count": null,
      "outputs": []
    },
    {
      "cell_type": "code",
      "source": [
        "rf_val_params = [[\"max_depth\", [5, 8, 15, 20, 30, None]],\n",
        "                 [\"max_features\", [3, 5, 7, \"auto\"]],\n",
        "                 [\"min_samples_split\", [2, 5, 8, 15, 20]],\n",
        "                 [\"n_estimators\", [10, 50, 100, 200, 500]]]"
      ],
      "metadata": {
        "id": "QMMwdQgzu3bM"
      },
      "execution_count": null,
      "outputs": []
    },
    {
      "cell_type": "code",
      "source": [
        "rf_model = RandomForestRegressor(random_state=17)"
      ],
      "metadata": {
        "id": "SuBl7hpru4ra"
      },
      "execution_count": null,
      "outputs": []
    },
    {
      "cell_type": "code",
      "source": [
        "for i in range(len(rf_val_params)):\n",
        "    val_curve_params(rf_model, X, y, rf_val_params[i][0], rf_val_params[i][1],scoring=\"neg_mean_absolute_error\")\n"
      ],
      "metadata": {
        "id": "5TaWXgsau6CP"
      },
      "execution_count": null,
      "outputs": []
    },
    {
      "cell_type": "code",
      "source": [
        "rf_val_params[0][1]"
      ],
      "metadata": {
        "id": "0Lv8IkIpu8ui"
      },
      "execution_count": null,
      "outputs": []
    }
  ]
}